{
 "cells": [
  {
   "cell_type": "markdown",
   "id": "based-feeding",
   "metadata": {},
   "source": [
    "## What is a Pipeline in Scikit-Learn & Why is it important?"
   ]
  },
  {
   "cell_type": "markdown",
   "id": "secure-challenge",
   "metadata": {},
   "source": [
    "Let's say you want to build a machine learning model to predict the quality of a red wine. A common workflow for solving this task would be as follows."
   ]
  },
  {
   "cell_type": "code",
   "execution_count": 1,
   "id": "attempted-falls",
   "metadata": {},
   "outputs": [
    {
     "data": {
      "application/javascript": [
       "\n",
       "            setTimeout(function() {\n",
       "                var nbb_cell_id = 1;\n",
       "                var nbb_unformatted_code = \"# import libraries\\nimport numpy as np\\nimport pandas as pd\\nfrom sklearn.model_selection import train_test_split\\nfrom sklearn.preprocessing import StandardScaler\\nfrom sklearn.impute import SimpleImputer\\nfrom sklearn.metrics import mean_squared_error\\n\\n# for code formating\\n%load_ext nb_black\\n\\n# read the data and split it into a training and test set\\nurl = \\\"http://bit.ly/wine-quality-lwd\\\"\\nwine = pd.read_csv(url)\\nX = wine.drop(\\\"quality\\\", axis=1).copy()\\ny = wine[\\\"quality\\\"].copy()\\nX_train, X_test, y_train, y_test = train_test_split(\\n    X, y, test_size=0.3, random_state=42\\n)\";\n",
       "                var nbb_formatted_code = \"# import libraries\\nimport numpy as np\\nimport pandas as pd\\nfrom sklearn.model_selection import train_test_split\\nfrom sklearn.preprocessing import StandardScaler\\nfrom sklearn.impute import SimpleImputer\\nfrom sklearn.metrics import mean_squared_error\\n\\n# for code formating\\n%load_ext nb_black\\n\\n# read the data and split it into a training and test set\\nurl = \\\"http://bit.ly/wine-quality-lwd\\\"\\nwine = pd.read_csv(url)\\nX = wine.drop(\\\"quality\\\", axis=1).copy()\\ny = wine[\\\"quality\\\"].copy()\\nX_train, X_test, y_train, y_test = train_test_split(\\n    X, y, test_size=0.3, random_state=42\\n)\";\n",
       "                var nbb_cells = Jupyter.notebook.get_cells();\n",
       "                for (var i = 0; i < nbb_cells.length; ++i) {\n",
       "                    if (nbb_cells[i].input_prompt_number == nbb_cell_id) {\n",
       "                        if (nbb_cells[i].get_text() == nbb_unformatted_code) {\n",
       "                             nbb_cells[i].set_text(nbb_formatted_code);\n",
       "                        }\n",
       "                        break;\n",
       "                    }\n",
       "                }\n",
       "            }, 500);\n",
       "            "
      ],
      "text/plain": [
       "<IPython.core.display.Javascript object>"
      ]
     },
     "metadata": {},
     "output_type": "display_data"
    }
   ],
   "source": [
    "# import libraries\n",
    "import numpy as np\n",
    "import pandas as pd\n",
    "from sklearn.model_selection import train_test_split\n",
    "from sklearn.preprocessing import StandardScaler\n",
    "from sklearn.impute import SimpleImputer\n",
    "from sklearn.metrics import mean_squared_error\n",
    "\n",
    "# for code formating\n",
    "%load_ext nb_black\n",
    "\n",
    "# read the data and split it into a training and test set\n",
    "url = \"http://bit.ly/wine-quality-lwd\"\n",
    "wine = pd.read_csv(url)\n",
    "X = wine.drop(\"quality\", axis=1).copy()\n",
    "y = wine[\"quality\"].copy()\n",
    "X_train, X_test, y_train, y_test = train_test_split(\n",
    "    X, y, test_size=0.3, random_state=42\n",
    ")"
   ]
  },
  {
   "cell_type": "markdown",
   "id": "exterior-jungle",
   "metadata": {},
   "source": [
    "Here, first we read the data and split it into a training and a test set. Once we did that we need to prepare the data for machine learning before building the model like filling the missing value, scaling the data, one hot encoding categorical features etc. "
   ]
  },
  {
   "cell_type": "code",
   "execution_count": 2,
   "id": "tutorial-integral",
   "metadata": {},
   "outputs": [
    {
     "data": {
      "application/javascript": [
       "\n",
       "            setTimeout(function() {\n",
       "                var nbb_cell_id = 2;\n",
       "                var nbb_unformatted_code = \"# fill missing values with medians\\nimputer = SimpleImputer(strategy=\\\"median\\\")\\nX_train_tr = imputer.fit_transform(X_train)\\n# scale the data\\nscale = StandardScaler()\\nX_train_tr = scale.fit_transform(X_train_tr)\\n\\n# do the same for test data. But here we will not apply the\\n# fit method only the transform method because we\\n# do not want our model to learn anything from the test data\\nX_test_tr = imputer.transform(X_test)\\nX_test_tr = scale.transform(X_test_tr)\";\n",
       "                var nbb_formatted_code = \"# fill missing values with medians\\nimputer = SimpleImputer(strategy=\\\"median\\\")\\nX_train_tr = imputer.fit_transform(X_train)\\n# scale the data\\nscale = StandardScaler()\\nX_train_tr = scale.fit_transform(X_train_tr)\\n\\n# do the same for test data. But here we will not apply the\\n# fit method only the transform method because we\\n# do not want our model to learn anything from the test data\\nX_test_tr = imputer.transform(X_test)\\nX_test_tr = scale.transform(X_test_tr)\";\n",
       "                var nbb_cells = Jupyter.notebook.get_cells();\n",
       "                for (var i = 0; i < nbb_cells.length; ++i) {\n",
       "                    if (nbb_cells[i].input_prompt_number == nbb_cell_id) {\n",
       "                        if (nbb_cells[i].get_text() == nbb_unformatted_code) {\n",
       "                             nbb_cells[i].set_text(nbb_formatted_code);\n",
       "                        }\n",
       "                        break;\n",
       "                    }\n",
       "                }\n",
       "            }, 500);\n",
       "            "
      ],
      "text/plain": [
       "<IPython.core.display.Javascript object>"
      ]
     },
     "metadata": {},
     "output_type": "display_data"
    }
   ],
   "source": [
    "# fill missing values with medians\n",
    "imputer = SimpleImputer(strategy=\"median\")\n",
    "X_train_tr = imputer.fit_transform(X_train)\n",
    "# scale the data\n",
    "scale = StandardScaler()\n",
    "X_train_tr = scale.fit_transform(X_train_tr)\n",
    "\n",
    "# do the same for test data. But here we will not apply the\n",
    "# fit method only the transform method because we\n",
    "# do not want our model to learn anything from the test data\n",
    "X_test_tr = imputer.transform(X_test)\n",
    "X_test_tr = scale.transform(X_test_tr)"
   ]
  },
  {
   "cell_type": "markdown",
   "id": "atmospheric-solid",
   "metadata": {},
   "source": [
    "Once we prepare the data, we can go forward and train the model on the training data and make predictions on the test\n",
    "data. "
   ]
  },
  {
   "cell_type": "code",
   "execution_count": 3,
   "id": "accomplished-mongolia",
   "metadata": {},
   "outputs": [
    {
     "name": "stdout",
     "output_type": "stream",
     "text": [
      "0.6729908369856655\n"
     ]
    },
    {
     "data": {
      "application/javascript": [
       "\n",
       "            setTimeout(function() {\n",
       "                var nbb_cell_id = 3;\n",
       "                var nbb_unformatted_code = \"from sklearn.neighbors import KNeighborsRegressor\\n\\n# initiate the k-nearest neighbors regressor class\\nknn = KNeighborsRegressor()\\n# train the knn model on training data\\nknn.fit(X_train_tr, y_train)\\n# make predictions on test data\\ny_pred = knn.predict(X_test_tr)\\n# measure the performance of the model\\nmse = mean_squared_error(y_test, y_pred)\\nrmse = np.sqrt(mse)\\nprint(rmse)\";\n",
       "                var nbb_formatted_code = \"from sklearn.neighbors import KNeighborsRegressor\\n\\n# initiate the k-nearest neighbors regressor class\\nknn = KNeighborsRegressor()\\n# train the knn model on training data\\nknn.fit(X_train_tr, y_train)\\n# make predictions on test data\\ny_pred = knn.predict(X_test_tr)\\n# measure the performance of the model\\nmse = mean_squared_error(y_test, y_pred)\\nrmse = np.sqrt(mse)\\nprint(rmse)\";\n",
       "                var nbb_cells = Jupyter.notebook.get_cells();\n",
       "                for (var i = 0; i < nbb_cells.length; ++i) {\n",
       "                    if (nbb_cells[i].input_prompt_number == nbb_cell_id) {\n",
       "                        if (nbb_cells[i].get_text() == nbb_unformatted_code) {\n",
       "                             nbb_cells[i].set_text(nbb_formatted_code);\n",
       "                        }\n",
       "                        break;\n",
       "                    }\n",
       "                }\n",
       "            }, 500);\n",
       "            "
      ],
      "text/plain": [
       "<IPython.core.display.Javascript object>"
      ]
     },
     "metadata": {},
     "output_type": "display_data"
    }
   ],
   "source": [
    "from sklearn.neighbors import KNeighborsRegressor\n",
    "\n",
    "# initiate the k-nearest neighbors regressor class\n",
    "knn = KNeighborsRegressor()\n",
    "# train the knn model on training data\n",
    "knn.fit(X_train_tr, y_train)\n",
    "# make predictions on test data\n",
    "y_pred = knn.predict(X_test_tr)\n",
    "# measure the performance of the model\n",
    "mse = mean_squared_error(y_test, y_pred)\n",
    "rmse = np.sqrt(mse)\n",
    "print(rmse)"
   ]
  },
  {
   "cell_type": "markdown",
   "id": "chicken-scroll",
   "metadata": {},
   "source": [
    "As you can see there are lots of steps that need to be executed in the right order for training the model and If you mess things up, your model will be complete garbage. And this is just a simple example of a ml workflow. As you start working with more complicated model, the chances of making errors becomes much higher. This is where the pipeline comes in.\n",
    "\n",
    "### What is a Pipeline?\n",
    "\n",
    "A Pipeline is simply a method of chaining multiple steps together in which the output of the previous step is used as the input for the next step.\n",
    "\n",
    "Let's see how can we build the same model using a pipeline assuming we already split the data into a training and a test set.\n"
   ]
  },
  {
   "cell_type": "code",
   "execution_count": 4,
   "id": "infinite-wayne",
   "metadata": {},
   "outputs": [
    {
     "name": "stdout",
     "output_type": "stream",
     "text": [
      "0.6729908369856655\n"
     ]
    },
    {
     "data": {
      "application/javascript": [
       "\n",
       "            setTimeout(function() {\n",
       "                var nbb_cell_id = 4;\n",
       "                var nbb_unformatted_code = \"# list all the steps here for building the model\\nfrom sklearn.pipeline import make_pipeline\\n\\npipe = make_pipeline(\\n    SimpleImputer(strategy=\\\"median\\\"), StandardScaler(), KNeighborsRegressor()\\n)\\n# apply all the transformation on the training set and train an knn model\\npipe.fit(X_train, y_train)\\n# apply all the transformation on the test set and make predictions\\ny_pred = pipe.predict(X_test)\\n# measure the performance\\nmse = mean_squared_error(y_test, y_pred)\\nrmse = np.sqrt(mse)\\nprint(rmse)\";\n",
       "                var nbb_formatted_code = \"# list all the steps here for building the model\\nfrom sklearn.pipeline import make_pipeline\\n\\npipe = make_pipeline(\\n    SimpleImputer(strategy=\\\"median\\\"), StandardScaler(), KNeighborsRegressor()\\n)\\n# apply all the transformation on the training set and train an knn model\\npipe.fit(X_train, y_train)\\n# apply all the transformation on the test set and make predictions\\ny_pred = pipe.predict(X_test)\\n# measure the performance\\nmse = mean_squared_error(y_test, y_pred)\\nrmse = np.sqrt(mse)\\nprint(rmse)\";\n",
       "                var nbb_cells = Jupyter.notebook.get_cells();\n",
       "                for (var i = 0; i < nbb_cells.length; ++i) {\n",
       "                    if (nbb_cells[i].input_prompt_number == nbb_cell_id) {\n",
       "                        if (nbb_cells[i].get_text() == nbb_unformatted_code) {\n",
       "                             nbb_cells[i].set_text(nbb_formatted_code);\n",
       "                        }\n",
       "                        break;\n",
       "                    }\n",
       "                }\n",
       "            }, 500);\n",
       "            "
      ],
      "text/plain": [
       "<IPython.core.display.Javascript object>"
      ]
     },
     "metadata": {},
     "output_type": "display_data"
    }
   ],
   "source": [
    "# list all the steps here for building the model\n",
    "from sklearn.pipeline import make_pipeline\n",
    "\n",
    "pipe = make_pipeline(\n",
    "    SimpleImputer(strategy=\"median\"), StandardScaler(), KNeighborsRegressor()\n",
    ")\n",
    "# apply all the transformation on the training set and train an knn model\n",
    "pipe.fit(X_train, y_train)\n",
    "# apply all the transformation on the test set and make predictions\n",
    "y_pred = pipe.predict(X_test)\n",
    "# measure the performance\n",
    "mse = mean_squared_error(y_test, y_pred)\n",
    "rmse = np.sqrt(mse)\n",
    "print(rmse)"
   ]
  },
  {
   "cell_type": "markdown",
   "id": "living-copper",
   "metadata": {},
   "source": [
    "That's it. Every steps of the model from start to finish is defined in a single step and Scikit-Learn did everything for you. First it applied all the appropriate data transformation on the training set, build the model on it when you call the fit method and then transform the test set and made the prediction when you call the predict method.\n",
    "\n",
    "Isn't this simple and nice? Pipeline helps you encapsulated complexity just like functions do. It also helps you avoid leaking information from your test data into the trained model during cross-validation which we will see later in this post. It is easier use and debug. If you don't like something you can easily replace that step with something else without making too much changes to your code. It is also nicer for other to read and understand your code. \n",
    "\n",
    "Now, let's see this in more details."
   ]
  },
  {
   "cell_type": "markdown",
   "id": "informed-evaluation",
   "metadata": {},
   "source": [
    "## How to Use a Pipeline in Scikit-Learn?"
   ]
  },
  {
   "cell_type": "markdown",
   "id": "reflected-liechtenstein",
   "metadata": {},
   "source": [
    "The Pipeline in scikit-learn is built using a list of (`key, value`) pairs where the `key` is a string containing the name you want to give to a particular step and `value` is an estimator object for that step."
   ]
  },
  {
   "cell_type": "code",
   "execution_count": 5,
   "id": "sunrise-signal",
   "metadata": {},
   "outputs": [
    {
     "data": {
      "text/plain": [
       "Pipeline(steps=[('imputer', SimpleImputer(strategy='median')),\n",
       "                ('scaler', StandardScaler()), ('knn', KNeighborsRegressor())])"
      ]
     },
     "execution_count": 5,
     "metadata": {},
     "output_type": "execute_result"
    },
    {
     "data": {
      "application/javascript": [
       "\n",
       "            setTimeout(function() {\n",
       "                var nbb_cell_id = 5;\n",
       "                var nbb_unformatted_code = \"from sklearn.pipeline import Pipeline\\nfrom sklearn.impute import SimpleImputer\\nfrom sklearn.preprocessing import StandardScaler\\nfrom sklearn.neighbors import KNeighborsRegressor\\n\\npipe_long = Pipeline(\\n    [\\n        (\\\"imputer\\\", SimpleImputer(strategy=\\\"median\\\")),\\n        (\\\"scaler\\\", StandardScaler()),\\n        (\\\"knn\\\", KNeighborsRegressor()),\\n    ]\\n)\\npipe_long\";\n",
       "                var nbb_formatted_code = \"from sklearn.pipeline import Pipeline\\nfrom sklearn.impute import SimpleImputer\\nfrom sklearn.preprocessing import StandardScaler\\nfrom sklearn.neighbors import KNeighborsRegressor\\n\\npipe_long = Pipeline(\\n    [\\n        (\\\"imputer\\\", SimpleImputer(strategy=\\\"median\\\")),\\n        (\\\"scaler\\\", StandardScaler()),\\n        (\\\"knn\\\", KNeighborsRegressor()),\\n    ]\\n)\\npipe_long\";\n",
       "                var nbb_cells = Jupyter.notebook.get_cells();\n",
       "                for (var i = 0; i < nbb_cells.length; ++i) {\n",
       "                    if (nbb_cells[i].input_prompt_number == nbb_cell_id) {\n",
       "                        if (nbb_cells[i].get_text() == nbb_unformatted_code) {\n",
       "                             nbb_cells[i].set_text(nbb_formatted_code);\n",
       "                        }\n",
       "                        break;\n",
       "                    }\n",
       "                }\n",
       "            }, 500);\n",
       "            "
      ],
      "text/plain": [
       "<IPython.core.display.Javascript object>"
      ]
     },
     "metadata": {},
     "output_type": "display_data"
    }
   ],
   "source": [
    "from sklearn.pipeline import Pipeline\n",
    "from sklearn.impute import SimpleImputer\n",
    "from sklearn.preprocessing import StandardScaler\n",
    "from sklearn.neighbors import KNeighborsRegressor\n",
    "\n",
    "pipe_long = Pipeline(\n",
    "    [\n",
    "        (\"imputer\", SimpleImputer(strategy=\"median\")),\n",
    "        (\"scaler\", StandardScaler()),\n",
    "        (\"knn\", KNeighborsRegressor()),\n",
    "    ]\n",
    ")\n",
    "pipe_long"
   ]
  },
  {
   "cell_type": "markdown",
   "id": "funded-belief",
   "metadata": {},
   "source": [
    "There is also a shorthand syntax(`make_pipeline`) for making a pipeline that we saw earlier. It only takes the estimators and fill in the names automatically with the lowercase class names."
   ]
  },
  {
   "cell_type": "code",
   "execution_count": 6,
   "id": "typical-latest",
   "metadata": {},
   "outputs": [
    {
     "data": {
      "text/plain": [
       "Pipeline(steps=[('simpleimputer', SimpleImputer(strategy='median')),\n",
       "                ('standardscaler', StandardScaler()),\n",
       "                ('kneighborsregressor', KNeighborsRegressor())])"
      ]
     },
     "execution_count": 6,
     "metadata": {},
     "output_type": "execute_result"
    },
    {
     "data": {
      "application/javascript": [
       "\n",
       "            setTimeout(function() {\n",
       "                var nbb_cell_id = 6;\n",
       "                var nbb_unformatted_code = \"from sklearn.pipeline import make_pipeline\\n\\npipe_short = make_pipeline(\\n    SimpleImputer(strategy=\\\"median\\\"), StandardScaler(), KNeighborsRegressor()\\n)\\npipe_short\";\n",
       "                var nbb_formatted_code = \"from sklearn.pipeline import make_pipeline\\n\\npipe_short = make_pipeline(\\n    SimpleImputer(strategy=\\\"median\\\"), StandardScaler(), KNeighborsRegressor()\\n)\\npipe_short\";\n",
       "                var nbb_cells = Jupyter.notebook.get_cells();\n",
       "                for (var i = 0; i < nbb_cells.length; ++i) {\n",
       "                    if (nbb_cells[i].input_prompt_number == nbb_cell_id) {\n",
       "                        if (nbb_cells[i].get_text() == nbb_unformatted_code) {\n",
       "                             nbb_cells[i].set_text(nbb_formatted_code);\n",
       "                        }\n",
       "                        break;\n",
       "                    }\n",
       "                }\n",
       "            }, 500);\n",
       "            "
      ],
      "text/plain": [
       "<IPython.core.display.Javascript object>"
      ]
     },
     "metadata": {},
     "output_type": "display_data"
    }
   ],
   "source": [
    "from sklearn.pipeline import make_pipeline\n",
    "\n",
    "pipe_short = make_pipeline(\n",
    "    SimpleImputer(strategy=\"median\"), StandardScaler(), KNeighborsRegressor()\n",
    ")\n",
    "pipe_short"
   ]
  },
  {
   "cell_type": "markdown",
   "id": "confidential-asian",
   "metadata": {},
   "source": [
    "#### Rules for creating a Pipeline - \n",
    "\n",
    "There are few rules that you need to follow when creating a Pipeline in scikit Learn.\n",
    "1. All estimators in a pipeline, except the last one, must be transformers (i.e. must have a [transform](https://scikit-learn.org/stable/glossary.html#term-transform) method). The last estimator may be any type (transformer, classifier, etc.).\n",
    "2. Names for the steps can be anything you like as long as they are unique and don't contains double underscores as they are used during hyperparameter tunning."
   ]
  },
  {
   "cell_type": "markdown",
   "id": "standard-recording",
   "metadata": {},
   "source": [
    "## Accessing Steps of a Pipeline"
   ]
  },
  {
   "cell_type": "markdown",
   "id": "insured-manchester",
   "metadata": {},
   "source": [
    "The estimators of a pipeline are stored as a list in the steps attribute and can be accessed by index or by their name like this."
   ]
  },
  {
   "cell_type": "code",
   "execution_count": 7,
   "id": "upset-republican",
   "metadata": {},
   "outputs": [
    {
     "name": "stdout",
     "output_type": "stream",
     "text": [
      "('imputer', SimpleImputer(strategy='median'))\n",
      "('scaler', StandardScaler())\n"
     ]
    },
    {
     "data": {
      "application/javascript": [
       "\n",
       "            setTimeout(function() {\n",
       "                var nbb_cell_id = 7;\n",
       "                var nbb_unformatted_code = \"print(pipe_long.steps[0])\\nprint(pipe_long.steps[1])\";\n",
       "                var nbb_formatted_code = \"print(pipe_long.steps[0])\\nprint(pipe_long.steps[1])\";\n",
       "                var nbb_cells = Jupyter.notebook.get_cells();\n",
       "                for (var i = 0; i < nbb_cells.length; ++i) {\n",
       "                    if (nbb_cells[i].input_prompt_number == nbb_cell_id) {\n",
       "                        if (nbb_cells[i].get_text() == nbb_unformatted_code) {\n",
       "                             nbb_cells[i].set_text(nbb_formatted_code);\n",
       "                        }\n",
       "                        break;\n",
       "                    }\n",
       "                }\n",
       "            }, 500);\n",
       "            "
      ],
      "text/plain": [
       "<IPython.core.display.Javascript object>"
      ]
     },
     "metadata": {},
     "output_type": "display_data"
    }
   ],
   "source": [
    "print(pipe_long.steps[0])\n",
    "print(pipe_long.steps[1])"
   ]
  },
  {
   "cell_type": "code",
   "execution_count": 8,
   "id": "pacific-blast",
   "metadata": {},
   "outputs": [
    {
     "name": "stdout",
     "output_type": "stream",
     "text": [
      "KNeighborsRegressor()\n"
     ]
    },
    {
     "data": {
      "application/javascript": [
       "\n",
       "            setTimeout(function() {\n",
       "                var nbb_cell_id = 8;\n",
       "                var nbb_unformatted_code = \"print(pipe_long[2])\";\n",
       "                var nbb_formatted_code = \"print(pipe_long[2])\";\n",
       "                var nbb_cells = Jupyter.notebook.get_cells();\n",
       "                for (var i = 0; i < nbb_cells.length; ++i) {\n",
       "                    if (nbb_cells[i].input_prompt_number == nbb_cell_id) {\n",
       "                        if (nbb_cells[i].get_text() == nbb_unformatted_code) {\n",
       "                             nbb_cells[i].set_text(nbb_formatted_code);\n",
       "                        }\n",
       "                        break;\n",
       "                    }\n",
       "                }\n",
       "            }, 500);\n",
       "            "
      ],
      "text/plain": [
       "<IPython.core.display.Javascript object>"
      ]
     },
     "metadata": {},
     "output_type": "display_data"
    }
   ],
   "source": [
    "print(pipe_long[2])"
   ]
  },
  {
   "cell_type": "code",
   "execution_count": 9,
   "id": "appointed-basement",
   "metadata": {},
   "outputs": [
    {
     "name": "stdout",
     "output_type": "stream",
     "text": [
      "SimpleImputer(strategy='median')\n"
     ]
    },
    {
     "data": {
      "application/javascript": [
       "\n",
       "            setTimeout(function() {\n",
       "                var nbb_cell_id = 9;\n",
       "                var nbb_unformatted_code = \"print(pipe_long[\\\"imputer\\\"])\";\n",
       "                var nbb_formatted_code = \"print(pipe_long[\\\"imputer\\\"])\";\n",
       "                var nbb_cells = Jupyter.notebook.get_cells();\n",
       "                for (var i = 0; i < nbb_cells.length; ++i) {\n",
       "                    if (nbb_cells[i].input_prompt_number == nbb_cell_id) {\n",
       "                        if (nbb_cells[i].get_text() == nbb_unformatted_code) {\n",
       "                             nbb_cells[i].set_text(nbb_formatted_code);\n",
       "                        }\n",
       "                        break;\n",
       "                    }\n",
       "                }\n",
       "            }, 500);\n",
       "            "
      ],
      "text/plain": [
       "<IPython.core.display.Javascript object>"
      ]
     },
     "metadata": {},
     "output_type": "display_data"
    }
   ],
   "source": [
    "print(pipe_long[\"imputer\"])"
   ]
  },
  {
   "cell_type": "markdown",
   "id": "certified-specialist",
   "metadata": {},
   "source": [
    "Pipeline’s `named_steps` attribute allows accessing steps by name with tab completion in interactive environments"
   ]
  },
  {
   "cell_type": "code",
   "execution_count": 10,
   "id": "prospective-cuisine",
   "metadata": {},
   "outputs": [
    {
     "name": "stdout",
     "output_type": "stream",
     "text": [
      "SimpleImputer(strategy='median')\n"
     ]
    },
    {
     "data": {
      "application/javascript": [
       "\n",
       "            setTimeout(function() {\n",
       "                var nbb_cell_id = 10;\n",
       "                var nbb_unformatted_code = \"print(pipe_long.named_steps.imputer)\";\n",
       "                var nbb_formatted_code = \"print(pipe_long.named_steps.imputer)\";\n",
       "                var nbb_cells = Jupyter.notebook.get_cells();\n",
       "                for (var i = 0; i < nbb_cells.length; ++i) {\n",
       "                    if (nbb_cells[i].input_prompt_number == nbb_cell_id) {\n",
       "                        if (nbb_cells[i].get_text() == nbb_unformatted_code) {\n",
       "                             nbb_cells[i].set_text(nbb_formatted_code);\n",
       "                        }\n",
       "                        break;\n",
       "                    }\n",
       "                }\n",
       "            }, 500);\n",
       "            "
      ],
      "text/plain": [
       "<IPython.core.display.Javascript object>"
      ]
     },
     "metadata": {},
     "output_type": "display_data"
    }
   ],
   "source": [
    "print(pipe_long.named_steps.imputer)"
   ]
  },
  {
   "cell_type": "markdown",
   "id": "floppy-violation",
   "metadata": {},
   "source": [
    "You can also use the slice notation to access them."
   ]
  },
  {
   "cell_type": "code",
   "execution_count": 11,
   "id": "heard-strength",
   "metadata": {},
   "outputs": [
    {
     "name": "stdout",
     "output_type": "stream",
     "text": [
      "Pipeline(steps=[('scaler', StandardScaler()), ('knn', KNeighborsRegressor())])\n"
     ]
    },
    {
     "data": {
      "application/javascript": [
       "\n",
       "            setTimeout(function() {\n",
       "                var nbb_cell_id = 11;\n",
       "                var nbb_unformatted_code = \"print(pipe_long[1:])\";\n",
       "                var nbb_formatted_code = \"print(pipe_long[1:])\";\n",
       "                var nbb_cells = Jupyter.notebook.get_cells();\n",
       "                for (var i = 0; i < nbb_cells.length; ++i) {\n",
       "                    if (nbb_cells[i].input_prompt_number == nbb_cell_id) {\n",
       "                        if (nbb_cells[i].get_text() == nbb_unformatted_code) {\n",
       "                             nbb_cells[i].set_text(nbb_formatted_code);\n",
       "                        }\n",
       "                        break;\n",
       "                    }\n",
       "                }\n",
       "            }, 500);\n",
       "            "
      ],
      "text/plain": [
       "<IPython.core.display.Javascript object>"
      ]
     },
     "metadata": {},
     "output_type": "display_data"
    }
   ],
   "source": [
    "print(pipe_long[1:])"
   ]
  },
  {
   "cell_type": "markdown",
   "id": "incorporate-groove",
   "metadata": {},
   "source": [
    "## Grid Search using a Pipeline"
   ]
  },
  {
   "cell_type": "markdown",
   "id": "better-renewal",
   "metadata": {},
   "source": [
    "You can also do grid search for hyperparameter optimization with a pipeline. And to access the parameters of the estimators in the pipeline use the `<estimator>__<parameter>` syntax. "
   ]
  },
  {
   "cell_type": "code",
   "execution_count": 12,
   "id": "competitive-ebony",
   "metadata": {},
   "outputs": [
    {
     "data": {
      "text/plain": [
       "GridSearchCV(cv=5,\n",
       "             estimator=Pipeline(steps=[('simpleimputer',\n",
       "                                        SimpleImputer(strategy='median')),\n",
       "                                       ('standardscaler', StandardScaler()),\n",
       "                                       ('kneighborsregressor',\n",
       "                                        KNeighborsRegressor())]),\n",
       "             param_grid={'kneighborsregressor__n_neighbors': [3, 5, 8, 12, 15],\n",
       "                         'kneighborsregressor__weights': ['uniform',\n",
       "                                                          'distance']},\n",
       "             scoring='neg_mean_squared_error')"
      ]
     },
     "execution_count": 12,
     "metadata": {},
     "output_type": "execute_result"
    },
    {
     "data": {
      "application/javascript": [
       "\n",
       "            setTimeout(function() {\n",
       "                var nbb_cell_id = 12;\n",
       "                var nbb_unformatted_code = \"from sklearn.neighbors import KNeighborsRegressor\\nfrom sklearn.model_selection import GridSearchCV\\n\\n# create a pipeline\\npipe = make_pipeline(\\n    SimpleImputer(strategy=\\\"median\\\"), StandardScaler(), KNeighborsRegressor()\\n)\\n# list of parameter values to try\\nparam_grid = {\\n    \\\"kneighborsregressor__n_neighbors\\\": [3, 5, 8, 12, 15],\\n    \\\"kneighborsregressor__weights\\\": [\\\"uniform\\\", \\\"distance\\\"],\\n}\\ngrid = GridSearchCV(pipe, param_grid=param_grid, scoring=\\\"neg_mean_squared_error\\\", cv=5)\\ngrid.fit(X_train, y_train)\";\n",
       "                var nbb_formatted_code = \"from sklearn.neighbors import KNeighborsRegressor\\nfrom sklearn.model_selection import GridSearchCV\\n\\n# create a pipeline\\npipe = make_pipeline(\\n    SimpleImputer(strategy=\\\"median\\\"), StandardScaler(), KNeighborsRegressor()\\n)\\n# list of parameter values to try\\nparam_grid = {\\n    \\\"kneighborsregressor__n_neighbors\\\": [3, 5, 8, 12, 15],\\n    \\\"kneighborsregressor__weights\\\": [\\\"uniform\\\", \\\"distance\\\"],\\n}\\ngrid = GridSearchCV(pipe, param_grid=param_grid, scoring=\\\"neg_mean_squared_error\\\", cv=5)\\ngrid.fit(X_train, y_train)\";\n",
       "                var nbb_cells = Jupyter.notebook.get_cells();\n",
       "                for (var i = 0; i < nbb_cells.length; ++i) {\n",
       "                    if (nbb_cells[i].input_prompt_number == nbb_cell_id) {\n",
       "                        if (nbb_cells[i].get_text() == nbb_unformatted_code) {\n",
       "                             nbb_cells[i].set_text(nbb_formatted_code);\n",
       "                        }\n",
       "                        break;\n",
       "                    }\n",
       "                }\n",
       "            }, 500);\n",
       "            "
      ],
      "text/plain": [
       "<IPython.core.display.Javascript object>"
      ]
     },
     "metadata": {},
     "output_type": "display_data"
    }
   ],
   "source": [
    "from sklearn.neighbors import KNeighborsRegressor\n",
    "from sklearn.model_selection import GridSearchCV\n",
    "\n",
    "# create a pipeline\n",
    "pipe = make_pipeline(\n",
    "    SimpleImputer(strategy=\"median\"), StandardScaler(), KNeighborsRegressor()\n",
    ")\n",
    "# list of parameter values to try\n",
    "param_grid = {\n",
    "    \"kneighborsregressor__n_neighbors\": [3, 5, 8, 12, 15],\n",
    "    \"kneighborsregressor__weights\": [\"uniform\", \"distance\"],\n",
    "}\n",
    "grid = GridSearchCV(pipe, param_grid=param_grid, scoring=\"neg_mean_squared_error\", cv=5)\n",
    "grid.fit(X_train, y_train)"
   ]
  },
  {
   "cell_type": "code",
   "execution_count": 13,
   "id": "usual-gender",
   "metadata": {},
   "outputs": [
    {
     "name": "stdout",
     "output_type": "stream",
     "text": [
      "0.6187124991308474\n"
     ]
    },
    {
     "data": {
      "application/javascript": [
       "\n",
       "            setTimeout(function() {\n",
       "                var nbb_cell_id = 13;\n",
       "                var nbb_unformatted_code = \"# best score after grid search\\nprint(np.sqrt(-grid.best_score_))\";\n",
       "                var nbb_formatted_code = \"# best score after grid search\\nprint(np.sqrt(-grid.best_score_))\";\n",
       "                var nbb_cells = Jupyter.notebook.get_cells();\n",
       "                for (var i = 0; i < nbb_cells.length; ++i) {\n",
       "                    if (nbb_cells[i].input_prompt_number == nbb_cell_id) {\n",
       "                        if (nbb_cells[i].get_text() == nbb_unformatted_code) {\n",
       "                             nbb_cells[i].set_text(nbb_formatted_code);\n",
       "                        }\n",
       "                        break;\n",
       "                    }\n",
       "                }\n",
       "            }, 500);\n",
       "            "
      ],
      "text/plain": [
       "<IPython.core.display.Javascript object>"
      ]
     },
     "metadata": {},
     "output_type": "display_data"
    }
   ],
   "source": [
    "# best score after grid search\n",
    "print(np.sqrt(-grid.best_score_))"
   ]
  },
  {
   "cell_type": "code",
   "execution_count": 14,
   "id": "compressed-second",
   "metadata": {},
   "outputs": [
    {
     "name": "stdout",
     "output_type": "stream",
     "text": [
      "Pipeline(steps=[('simpleimputer', SimpleImputer(strategy='median')),\n",
      "                ('standardscaler', StandardScaler()),\n",
      "                ('kneighborsregressor',\n",
      "                 KNeighborsRegressor(n_neighbors=15, weights='distance'))])\n"
     ]
    },
    {
     "data": {
      "application/javascript": [
       "\n",
       "            setTimeout(function() {\n",
       "                var nbb_cell_id = 14;\n",
       "                var nbb_unformatted_code = \"print(grid.best_estimator_)\";\n",
       "                var nbb_formatted_code = \"print(grid.best_estimator_)\";\n",
       "                var nbb_cells = Jupyter.notebook.get_cells();\n",
       "                for (var i = 0; i < nbb_cells.length; ++i) {\n",
       "                    if (nbb_cells[i].input_prompt_number == nbb_cell_id) {\n",
       "                        if (nbb_cells[i].get_text() == nbb_unformatted_code) {\n",
       "                             nbb_cells[i].set_text(nbb_formatted_code);\n",
       "                        }\n",
       "                        break;\n",
       "                    }\n",
       "                }\n",
       "            }, 500);\n",
       "            "
      ],
      "text/plain": [
       "<IPython.core.display.Javascript object>"
      ]
     },
     "metadata": {},
     "output_type": "display_data"
    }
   ],
   "source": [
    "print(grid.best_estimator_)"
   ]
  },
  {
   "cell_type": "code",
   "execution_count": 15,
   "id": "ceramic-fabric",
   "metadata": {},
   "outputs": [
    {
     "name": "stdout",
     "output_type": "stream",
     "text": [
      "KNeighborsRegressor(n_neighbors=15, weights='distance')\n",
      "KNeighborsRegressor(n_neighbors=15, weights='distance')\n"
     ]
    },
    {
     "data": {
      "application/javascript": [
       "\n",
       "            setTimeout(function() {\n",
       "                var nbb_cell_id = 15;\n",
       "                var nbb_unformatted_code = \"# the estimators can be accessed like this\\nprint(grid.best_estimator_.named_steps.kneighborsregressor)\\nprint(grid.best_estimator_[\\\"kneighborsregressor\\\"])\";\n",
       "                var nbb_formatted_code = \"# the estimators can be accessed like this\\nprint(grid.best_estimator_.named_steps.kneighborsregressor)\\nprint(grid.best_estimator_[\\\"kneighborsregressor\\\"])\";\n",
       "                var nbb_cells = Jupyter.notebook.get_cells();\n",
       "                for (var i = 0; i < nbb_cells.length; ++i) {\n",
       "                    if (nbb_cells[i].input_prompt_number == nbb_cell_id) {\n",
       "                        if (nbb_cells[i].get_text() == nbb_unformatted_code) {\n",
       "                             nbb_cells[i].set_text(nbb_formatted_code);\n",
       "                        }\n",
       "                        break;\n",
       "                    }\n",
       "                }\n",
       "            }, 500);\n",
       "            "
      ],
      "text/plain": [
       "<IPython.core.display.Javascript object>"
      ]
     },
     "metadata": {},
     "output_type": "display_data"
    }
   ],
   "source": [
    "# the estimators can be accessed like this\n",
    "print(grid.best_estimator_.named_steps.kneighborsregressor)\n",
    "print(grid.best_estimator_[\"kneighborsregressor\"])"
   ]
  },
  {
   "cell_type": "code",
   "execution_count": 16,
   "id": "dietary-harassment",
   "metadata": {},
   "outputs": [
    {
     "name": "stdout",
     "output_type": "stream",
     "text": [
      "15\n",
      "15\n"
     ]
    },
    {
     "data": {
      "application/javascript": [
       "\n",
       "            setTimeout(function() {\n",
       "                var nbb_cell_id = 16;\n",
       "                var nbb_unformatted_code = \"# and to access the nested parameters of the estimators\\nprint(grid.best_estimator_.named_steps.kneighborsregressor.n_neighbors)\\nprint(grid.best_estimator_[\\\"kneighborsregressor\\\"].n_neighbors)\";\n",
       "                var nbb_formatted_code = \"# and to access the nested parameters of the estimators\\nprint(grid.best_estimator_.named_steps.kneighborsregressor.n_neighbors)\\nprint(grid.best_estimator_[\\\"kneighborsregressor\\\"].n_neighbors)\";\n",
       "                var nbb_cells = Jupyter.notebook.get_cells();\n",
       "                for (var i = 0; i < nbb_cells.length; ++i) {\n",
       "                    if (nbb_cells[i].input_prompt_number == nbb_cell_id) {\n",
       "                        if (nbb_cells[i].get_text() == nbb_unformatted_code) {\n",
       "                             nbb_cells[i].set_text(nbb_formatted_code);\n",
       "                        }\n",
       "                        break;\n",
       "                    }\n",
       "                }\n",
       "            }, 500);\n",
       "            "
      ],
      "text/plain": [
       "<IPython.core.display.Javascript object>"
      ]
     },
     "metadata": {},
     "output_type": "display_data"
    }
   ],
   "source": [
    "# and to access the nested parameters of the estimators\n",
    "print(grid.best_estimator_.named_steps.kneighborsregressor.n_neighbors)\n",
    "print(grid.best_estimator_[\"kneighborsregressor\"].n_neighbors)"
   ]
  },
  {
   "cell_type": "markdown",
   "id": "ancient-wiring",
   "metadata": {},
   "source": [
    "### For people, who wants to go one step further."
   ]
  },
  {
   "cell_type": "markdown",
   "id": "cheap-exemption",
   "metadata": {},
   "source": [
    "So far, we only worked with a single algorithm(K-Neasrest Neighbors) but there are many other algorithms that might perform better than this.So, now let's try different algorithms and see which perform best and we will also try \n",
    "different options for preparing the data that goes well with a particular algorithm, everything in a single step."
   ]
  },
  {
   "cell_type": "code",
   "execution_count": 17,
   "id": "understanding-subscriber",
   "metadata": {},
   "outputs": [
    {
     "name": "stdout",
     "output_type": "stream",
     "text": [
      "Requirement already satisfied: xgboost in /Users/bholaprasad/opt/anaconda3/lib/python3.8/site-packages (1.3.3)\n",
      "Requirement already satisfied: scipy in /Users/bholaprasad/opt/anaconda3/lib/python3.8/site-packages (from xgboost) (1.6.2)\n",
      "Requirement already satisfied: numpy in /Users/bholaprasad/opt/anaconda3/lib/python3.8/site-packages (from xgboost) (1.20.2)\n"
     ]
    },
    {
     "data": {
      "text/plain": [
       "GridSearchCV(cv=5,\n",
       "             estimator=Pipeline(steps=[('imputer', SimpleImputer()),\n",
       "                                       ('scaler', StandardScaler()),\n",
       "                                       ('regressor', RandomForestRegressor())]),\n",
       "             param_grid={'imputer__strategy': ['mean', 'median',\n",
       "                                               'most_frequent', 'constant'],\n",
       "                         'regressor': [KNeighborsRegressor(),\n",
       "                                       LinearRegression(),\n",
       "                                       RandomForestRegressor(random_state=42),\n",
       "                                       DecisionTreeRegressor(random_state=42),\n",
       "                                       X...\n",
       "                                                    min_child_weight=None,\n",
       "                                                    missing=nan,\n",
       "                                                    monotone_constraints=None,\n",
       "                                                    n_estimators=100,\n",
       "                                                    n_jobs=None,\n",
       "                                                    num_parallel_tree=None,\n",
       "                                                    random_state=42,\n",
       "                                                    reg_alpha=None,\n",
       "                                                    reg_lambda=None,\n",
       "                                                    scale_pos_weight=None,\n",
       "                                                    subsample=None,\n",
       "                                                    tree_method=None,\n",
       "                                                    validate_parameters=None,\n",
       "                                                    verbosity=None)],\n",
       "                         'scaler': [StandardScaler(), MinMaxScaler(),\n",
       "                                    'passthrough']},\n",
       "             return_train_score=True, scoring='neg_mean_squared_error')"
      ]
     },
     "execution_count": 17,
     "metadata": {},
     "output_type": "execute_result"
    },
    {
     "data": {
      "application/javascript": [
       "\n",
       "            setTimeout(function() {\n",
       "                var nbb_cell_id = 17;\n",
       "                var nbb_unformatted_code = \"# install XGBBoost if not\\n!pip install xgboost\\nfrom xgboost import XGBRegressor\\nfrom sklearn.neighbors import KNeighborsRegressor\\nfrom sklearn.ensemble import RandomForestRegressor\\nfrom sklearn.linear_model import LinearRegression\\nfrom sklearn.tree import DecisionTreeRegressor\\nfrom sklearn.preprocessing import StandardScaler\\nfrom sklearn.preprocessing import MinMaxScaler\\nfrom sklearn.model_selection import GridSearchCV\\n\\n# pipeline for the model\\npipe = Pipeline(\\n    [\\n        (\\\"imputer\\\", SimpleImputer()),\\n        (\\\"scaler\\\", StandardScaler()),\\n        (\\\"regressor\\\", RandomForestRegressor()),\\n    ]\\n)\\n\\n# model tunning with GridSearch\\nparam_grid = {\\n    \\\"imputer__strategy\\\": [\\\"mean\\\", \\\"median\\\", \\\"most_frequent\\\", \\\"constant\\\"],\\n    \\\"scaler\\\": [StandardScaler(), MinMaxScaler(), \\\"passthrough\\\"],\\n    \\\"regressor\\\": [\\n        KNeighborsRegressor(),\\n        LinearRegression(),\\n        RandomForestRegressor(random_state=42),\\n        DecisionTreeRegressor(random_state=42),\\n        XGBRegressor(random_state=42),\\n    ],\\n}\\n\\n\\ngrid = GridSearchCV(\\n    pipe,\\n    param_grid=param_grid,\\n    cv=5,\\n    scoring=\\\"neg_mean_squared_error\\\",\\n    return_train_score=True,\\n)\\n\\ngrid.fit(X_train, y_train)\";\n",
       "                var nbb_formatted_code = \"# install XGBBoost if not\\n!pip install xgboost\\nfrom xgboost import XGBRegressor\\nfrom sklearn.neighbors import KNeighborsRegressor\\nfrom sklearn.ensemble import RandomForestRegressor\\nfrom sklearn.linear_model import LinearRegression\\nfrom sklearn.tree import DecisionTreeRegressor\\nfrom sklearn.preprocessing import StandardScaler\\nfrom sklearn.preprocessing import MinMaxScaler\\nfrom sklearn.model_selection import GridSearchCV\\n\\n# pipeline for the model\\npipe = Pipeline(\\n    [\\n        (\\\"imputer\\\", SimpleImputer()),\\n        (\\\"scaler\\\", StandardScaler()),\\n        (\\\"regressor\\\", RandomForestRegressor()),\\n    ]\\n)\\n\\n# model tunning with GridSearch\\nparam_grid = {\\n    \\\"imputer__strategy\\\": [\\\"mean\\\", \\\"median\\\", \\\"most_frequent\\\", \\\"constant\\\"],\\n    \\\"scaler\\\": [StandardScaler(), MinMaxScaler(), \\\"passthrough\\\"],\\n    \\\"regressor\\\": [\\n        KNeighborsRegressor(),\\n        LinearRegression(),\\n        RandomForestRegressor(random_state=42),\\n        DecisionTreeRegressor(random_state=42),\\n        XGBRegressor(random_state=42),\\n    ],\\n}\\n\\n\\ngrid = GridSearchCV(\\n    pipe,\\n    param_grid=param_grid,\\n    cv=5,\\n    scoring=\\\"neg_mean_squared_error\\\",\\n    return_train_score=True,\\n)\\n\\ngrid.fit(X_train, y_train)\";\n",
       "                var nbb_cells = Jupyter.notebook.get_cells();\n",
       "                for (var i = 0; i < nbb_cells.length; ++i) {\n",
       "                    if (nbb_cells[i].input_prompt_number == nbb_cell_id) {\n",
       "                        if (nbb_cells[i].get_text() == nbb_unformatted_code) {\n",
       "                             nbb_cells[i].set_text(nbb_formatted_code);\n",
       "                        }\n",
       "                        break;\n",
       "                    }\n",
       "                }\n",
       "            }, 500);\n",
       "            "
      ],
      "text/plain": [
       "<IPython.core.display.Javascript object>"
      ]
     },
     "metadata": {},
     "output_type": "display_data"
    }
   ],
   "source": [
    "# install XGBBoost if not\n",
    "!pip install xgboost\n",
    "from xgboost import XGBRegressor\n",
    "from sklearn.neighbors import KNeighborsRegressor\n",
    "from sklearn.ensemble import RandomForestRegressor\n",
    "from sklearn.linear_model import LinearRegression\n",
    "from sklearn.tree import DecisionTreeRegressor\n",
    "from sklearn.preprocessing import StandardScaler\n",
    "from sklearn.preprocessing import MinMaxScaler\n",
    "from sklearn.model_selection import GridSearchCV\n",
    "\n",
    "# pipeline for the model\n",
    "pipe = Pipeline(\n",
    "    [\n",
    "        (\"imputer\", SimpleImputer()),\n",
    "        (\"scaler\", StandardScaler()),\n",
    "        (\"regressor\", RandomForestRegressor()),\n",
    "    ]\n",
    ")\n",
    "\n",
    "# model tunning with GridSearch\n",
    "param_grid = {\n",
    "    \"imputer__strategy\": [\"mean\", \"median\", \"most_frequent\", \"constant\"],\n",
    "    \"scaler\": [StandardScaler(), MinMaxScaler(), \"passthrough\"],\n",
    "    \"regressor\": [\n",
    "        KNeighborsRegressor(),\n",
    "        LinearRegression(),\n",
    "        RandomForestRegressor(random_state=42),\n",
    "        DecisionTreeRegressor(random_state=42),\n",
    "        XGBRegressor(random_state=42),\n",
    "    ],\n",
    "}\n",
    "\n",
    "\n",
    "grid = GridSearchCV(\n",
    "    pipe,\n",
    "    param_grid=param_grid,\n",
    "    cv=5,\n",
    "    scoring=\"neg_mean_squared_error\",\n",
    "    return_train_score=True,\n",
    ")\n",
    "\n",
    "grid.fit(X_train, y_train)"
   ]
  },
  {
   "cell_type": "code",
   "execution_count": 18,
   "id": "temporal-affect",
   "metadata": {},
   "outputs": [
    {
     "name": "stdout",
     "output_type": "stream",
     "text": [
      "0.6076141317775702\n"
     ]
    },
    {
     "data": {
      "application/javascript": [
       "\n",
       "            setTimeout(function() {\n",
       "                var nbb_cell_id = 18;\n",
       "                var nbb_unformatted_code = \"print(np.sqrt(-grid.best_score_))\";\n",
       "                var nbb_formatted_code = \"print(np.sqrt(-grid.best_score_))\";\n",
       "                var nbb_cells = Jupyter.notebook.get_cells();\n",
       "                for (var i = 0; i < nbb_cells.length; ++i) {\n",
       "                    if (nbb_cells[i].input_prompt_number == nbb_cell_id) {\n",
       "                        if (nbb_cells[i].get_text() == nbb_unformatted_code) {\n",
       "                             nbb_cells[i].set_text(nbb_formatted_code);\n",
       "                        }\n",
       "                        break;\n",
       "                    }\n",
       "                }\n",
       "            }, 500);\n",
       "            "
      ],
      "text/plain": [
       "<IPython.core.display.Javascript object>"
      ]
     },
     "metadata": {},
     "output_type": "display_data"
    }
   ],
   "source": [
    "print(np.sqrt(-grid.best_score_))"
   ]
  },
  {
   "cell_type": "code",
   "execution_count": 19,
   "id": "median-crime",
   "metadata": {},
   "outputs": [
    {
     "name": "stdout",
     "output_type": "stream",
     "text": [
      "Pipeline(steps=[('imputer', SimpleImputer()), ('scaler', 'passthrough'),\n",
      "                ('regressor', RandomForestRegressor(random_state=42))])\n",
      "mean\n"
     ]
    },
    {
     "data": {
      "application/javascript": [
       "\n",
       "            setTimeout(function() {\n",
       "                var nbb_cell_id = 19;\n",
       "                var nbb_unformatted_code = \"print(grid.best_estimator_)\\nprint(grid.best_estimator_.named_steps.imputer.strategy)\";\n",
       "                var nbb_formatted_code = \"print(grid.best_estimator_)\\nprint(grid.best_estimator_.named_steps.imputer.strategy)\";\n",
       "                var nbb_cells = Jupyter.notebook.get_cells();\n",
       "                for (var i = 0; i < nbb_cells.length; ++i) {\n",
       "                    if (nbb_cells[i].input_prompt_number == nbb_cell_id) {\n",
       "                        if (nbb_cells[i].get_text() == nbb_unformatted_code) {\n",
       "                             nbb_cells[i].set_text(nbb_formatted_code);\n",
       "                        }\n",
       "                        break;\n",
       "                    }\n",
       "                }\n",
       "            }, 500);\n",
       "            "
      ],
      "text/plain": [
       "<IPython.core.display.Javascript object>"
      ]
     },
     "metadata": {},
     "output_type": "display_data"
    }
   ],
   "source": [
    "print(grid.best_estimator_)\n",
    "print(grid.best_estimator_.named_steps.imputer.strategy)"
   ]
  },
  {
   "cell_type": "code",
   "execution_count": 20,
   "id": "critical-store",
   "metadata": {},
   "outputs": [
    {
     "data": {
      "application/javascript": [
       "\n",
       "            setTimeout(function() {\n",
       "                var nbb_cell_id = 20;\n",
       "                var nbb_unformatted_code = \"result = pd.DataFrame(grid.cv_results_)\";\n",
       "                var nbb_formatted_code = \"result = pd.DataFrame(grid.cv_results_)\";\n",
       "                var nbb_cells = Jupyter.notebook.get_cells();\n",
       "                for (var i = 0; i < nbb_cells.length; ++i) {\n",
       "                    if (nbb_cells[i].input_prompt_number == nbb_cell_id) {\n",
       "                        if (nbb_cells[i].get_text() == nbb_unformatted_code) {\n",
       "                             nbb_cells[i].set_text(nbb_formatted_code);\n",
       "                        }\n",
       "                        break;\n",
       "                    }\n",
       "                }\n",
       "            }, 500);\n",
       "            "
      ],
      "text/plain": [
       "<IPython.core.display.Javascript object>"
      ]
     },
     "metadata": {},
     "output_type": "display_data"
    }
   ],
   "source": [
    "result = pd.DataFrame(grid.cv_results_)"
   ]
  },
  {
   "cell_type": "markdown",
   "id": "supported-auckland",
   "metadata": {},
   "source": [
    "Here, we tried 5 different algorithms with default values and we also tested the scaler and imputer method that works best with them. The best algorithm for this task is the RandomForestRegressor which is scaled and the mean is used to fill the missing values. Some other models that performed well are XGBRegressor and LinearRegression. "
   ]
  },
  {
   "cell_type": "markdown",
   "id": "bridal-campbell",
   "metadata": {},
   "source": [
    "### For those, who wants to go nuts with Pipelines"
   ]
  },
  {
   "cell_type": "markdown",
   "id": "dressed-hurricane",
   "metadata": {},
   "source": [
    "Now, we narrow down to few algorithms that are performing well on this dataset, we can further improve the result by tunning the parameters of these models separately with different settings. "
   ]
  },
  {
   "cell_type": "code",
   "execution_count": 21,
   "id": "indonesian-fifty",
   "metadata": {},
   "outputs": [
    {
     "data": {
      "text/plain": [
       "GridSearchCV(cv=5,\n",
       "             estimator=Pipeline(steps=[('imputer', SimpleImputer()),\n",
       "                                       ('scaler', StandardScaler()),\n",
       "                                       ('regressor', RandomForestRegressor())]),\n",
       "             param_grid=[{'regressor': [RandomForestRegressor(max_depth=15,\n",
       "                                                              max_features='log2',\n",
       "                                                              n_estimators=1000,\n",
       "                                                              random_state=42)],\n",
       "                          'regressor__max_depth': [3, 5, 8, 15],\n",
       "                          'regressor__max_features': ['log2', 'sqrt', 'auto'],\n",
       "                          'regressor...\n",
       "                                                     n_jobs=None,\n",
       "                                                     num_parallel_tree=None,\n",
       "                                                     random_state=42,\n",
       "                                                     reg_alpha=None,\n",
       "                                                     reg_lambda=None,\n",
       "                                                     scale_pos_weight=None,\n",
       "                                                     subsample=None,\n",
       "                                                     tree_method=None,\n",
       "                                                     validate_parameters=None,\n",
       "                                                     verbosity=None)],\n",
       "                          'regressor__gamma': [0, 0.25, 1.0],\n",
       "                          'regressor__lambda': [0, 1.0, 10.0],\n",
       "                          'regressor__learning_rate': [0.1, 0.01, 0.05],\n",
       "                          'regressor__max_depth': [3, 5, 8, 15]}],\n",
       "             scoring='neg_mean_squared_error')"
      ]
     },
     "execution_count": 21,
     "metadata": {},
     "output_type": "execute_result"
    },
    {
     "data": {
      "application/javascript": [
       "\n",
       "            setTimeout(function() {\n",
       "                var nbb_cell_id = 21;\n",
       "                var nbb_unformatted_code = \"# make the pipeline and do grid search\\npipe = Pipeline(\\n    [\\n        (\\\"imputer\\\", SimpleImputer(strategy=\\\"mean\\\")),\\n        (\\\"scaler\\\", StandardScaler()),\\n        (\\\"regressor\\\", RandomForestRegressor()),\\n    ]\\n)\\n\\nparam_grid = [\\n    {\\n        \\\"regressor\\\": [RandomForestRegressor(random_state=42)],\\n        \\\"regressor__n_estimators\\\": [100, 300, 500, 1000],\\n        \\\"regressor__max_depth\\\": [3, 5, 8, 15],\\n        \\\"regressor__max_features\\\": [\\\"log2\\\", \\\"sqrt\\\", \\\"auto\\\"],\\n    },\\n    {\\n        \\\"regressor\\\": [XGBRegressor(random_state=42)],\\n        \\\"regressor__max_depth\\\": [3, 5, 8, 15],\\n        \\\"regressor__learning_rate\\\": [0.1, 0.01, 0.05],\\n        \\\"regressor__gamma\\\": [0, 0.25, 1.0],\\n        \\\"regressor__lambda\\\": [0, 1.0, 10.0],\\n    },\\n]\\n\\ngrid = GridSearchCV(pipe, param_grid=param_grid, scoring=\\\"neg_mean_squared_error\\\", cv=5)\\ngrid.fit(X_train, y_train)\";\n",
       "                var nbb_formatted_code = \"# make the pipeline and do grid search\\npipe = Pipeline(\\n    [\\n        (\\\"imputer\\\", SimpleImputer(strategy=\\\"mean\\\")),\\n        (\\\"scaler\\\", StandardScaler()),\\n        (\\\"regressor\\\", RandomForestRegressor()),\\n    ]\\n)\\n\\nparam_grid = [\\n    {\\n        \\\"regressor\\\": [RandomForestRegressor(random_state=42)],\\n        \\\"regressor__n_estimators\\\": [100, 300, 500, 1000],\\n        \\\"regressor__max_depth\\\": [3, 5, 8, 15],\\n        \\\"regressor__max_features\\\": [\\\"log2\\\", \\\"sqrt\\\", \\\"auto\\\"],\\n    },\\n    {\\n        \\\"regressor\\\": [XGBRegressor(random_state=42)],\\n        \\\"regressor__max_depth\\\": [3, 5, 8, 15],\\n        \\\"regressor__learning_rate\\\": [0.1, 0.01, 0.05],\\n        \\\"regressor__gamma\\\": [0, 0.25, 1.0],\\n        \\\"regressor__lambda\\\": [0, 1.0, 10.0],\\n    },\\n]\\n\\ngrid = GridSearchCV(pipe, param_grid=param_grid, scoring=\\\"neg_mean_squared_error\\\", cv=5)\\ngrid.fit(X_train, y_train)\";\n",
       "                var nbb_cells = Jupyter.notebook.get_cells();\n",
       "                for (var i = 0; i < nbb_cells.length; ++i) {\n",
       "                    if (nbb_cells[i].input_prompt_number == nbb_cell_id) {\n",
       "                        if (nbb_cells[i].get_text() == nbb_unformatted_code) {\n",
       "                             nbb_cells[i].set_text(nbb_formatted_code);\n",
       "                        }\n",
       "                        break;\n",
       "                    }\n",
       "                }\n",
       "            }, 500);\n",
       "            "
      ],
      "text/plain": [
       "<IPython.core.display.Javascript object>"
      ]
     },
     "metadata": {},
     "output_type": "display_data"
    }
   ],
   "source": [
    "# make the pipeline and do grid search\n",
    "pipe = Pipeline(\n",
    "    [\n",
    "        (\"imputer\", SimpleImputer(strategy=\"mean\")),\n",
    "        (\"scaler\", StandardScaler()),\n",
    "        (\"regressor\", RandomForestRegressor()),\n",
    "    ]\n",
    ")\n",
    "\n",
    "param_grid = [\n",
    "    {\n",
    "        \"regressor\": [RandomForestRegressor(random_state=42)],\n",
    "        \"regressor__n_estimators\": [100, 300, 500, 1000],\n",
    "        \"regressor__max_depth\": [3, 5, 8, 15],\n",
    "        \"regressor__max_features\": [\"log2\", \"sqrt\", \"auto\"],\n",
    "    },\n",
    "    {\n",
    "        \"regressor\": [XGBRegressor(random_state=42)],\n",
    "        \"regressor__max_depth\": [3, 5, 8, 15],\n",
    "        \"regressor__learning_rate\": [0.1, 0.01, 0.05],\n",
    "        \"regressor__gamma\": [0, 0.25, 1.0],\n",
    "        \"regressor__lambda\": [0, 1.0, 10.0],\n",
    "    },\n",
    "]\n",
    "\n",
    "grid = GridSearchCV(pipe, param_grid=param_grid, scoring=\"neg_mean_squared_error\", cv=5)\n",
    "grid.fit(X_train, y_train)"
   ]
  },
  {
   "cell_type": "code",
   "execution_count": 22,
   "id": "surprised-funds",
   "metadata": {},
   "outputs": [
    {
     "name": "stdout",
     "output_type": "stream",
     "text": [
      "Pipeline(steps=[('imputer', SimpleImputer()), ('scaler', StandardScaler()),\n",
      "                ('regressor',\n",
      "                 RandomForestRegressor(max_depth=15, max_features='log2',\n",
      "                                       n_estimators=1000, random_state=42))])\n"
     ]
    },
    {
     "data": {
      "application/javascript": [
       "\n",
       "            setTimeout(function() {\n",
       "                var nbb_cell_id = 22;\n",
       "                var nbb_unformatted_code = \"print(grid.best_estimator_)\";\n",
       "                var nbb_formatted_code = \"print(grid.best_estimator_)\";\n",
       "                var nbb_cells = Jupyter.notebook.get_cells();\n",
       "                for (var i = 0; i < nbb_cells.length; ++i) {\n",
       "                    if (nbb_cells[i].input_prompt_number == nbb_cell_id) {\n",
       "                        if (nbb_cells[i].get_text() == nbb_unformatted_code) {\n",
       "                             nbb_cells[i].set_text(nbb_formatted_code);\n",
       "                        }\n",
       "                        break;\n",
       "                    }\n",
       "                }\n",
       "            }, 500);\n",
       "            "
      ],
      "text/plain": [
       "<IPython.core.display.Javascript object>"
      ]
     },
     "metadata": {},
     "output_type": "display_data"
    }
   ],
   "source": [
    "print(grid.best_estimator_)"
   ]
  },
  {
   "cell_type": "code",
   "execution_count": 23,
   "id": "danish-values",
   "metadata": {},
   "outputs": [
    {
     "name": "stdout",
     "output_type": "stream",
     "text": [
      "0.6026456255737074\n"
     ]
    },
    {
     "data": {
      "application/javascript": [
       "\n",
       "            setTimeout(function() {\n",
       "                var nbb_cell_id = 23;\n",
       "                var nbb_unformatted_code = \"print(np.sqrt(-grid.best_score_))\";\n",
       "                var nbb_formatted_code = \"print(np.sqrt(-grid.best_score_))\";\n",
       "                var nbb_cells = Jupyter.notebook.get_cells();\n",
       "                for (var i = 0; i < nbb_cells.length; ++i) {\n",
       "                    if (nbb_cells[i].input_prompt_number == nbb_cell_id) {\n",
       "                        if (nbb_cells[i].get_text() == nbb_unformatted_code) {\n",
       "                             nbb_cells[i].set_text(nbb_formatted_code);\n",
       "                        }\n",
       "                        break;\n",
       "                    }\n",
       "                }\n",
       "            }, 500);\n",
       "            "
      ],
      "text/plain": [
       "<IPython.core.display.Javascript object>"
      ]
     },
     "metadata": {},
     "output_type": "display_data"
    }
   ],
   "source": [
    "print(np.sqrt(-grid.best_score_))"
   ]
  },
  {
   "cell_type": "markdown",
   "id": "mediterranean-today",
   "metadata": {},
   "source": [
    "## Feature Selections with pipelines"
   ]
  },
  {
   "cell_type": "markdown",
   "id": "representative-count",
   "metadata": {},
   "source": [
    "We can also do feature selection with a pipeline. There are various ways to do feature selection in scikit-Learn but\n",
    "here I am going to show one of the method for doing it with a pipeline. Later, I might write more about it in the \n",
    "future posts so make sure to subscribe to the blog."
   ]
  },
  {
   "cell_type": "code",
   "execution_count": 24,
   "id": "characteristic-brisbane",
   "metadata": {},
   "outputs": [
    {
     "name": "stdout",
     "output_type": "stream",
     "text": [
      "(1119, 11)\n"
     ]
    },
    {
     "data": {
      "application/javascript": [
       "\n",
       "            setTimeout(function() {\n",
       "                var nbb_cell_id = 24;\n",
       "                var nbb_unformatted_code = \"print(X_train.shape)\";\n",
       "                var nbb_formatted_code = \"print(X_train.shape)\";\n",
       "                var nbb_cells = Jupyter.notebook.get_cells();\n",
       "                for (var i = 0; i < nbb_cells.length; ++i) {\n",
       "                    if (nbb_cells[i].input_prompt_number == nbb_cell_id) {\n",
       "                        if (nbb_cells[i].get_text() == nbb_unformatted_code) {\n",
       "                             nbb_cells[i].set_text(nbb_formatted_code);\n",
       "                        }\n",
       "                        break;\n",
       "                    }\n",
       "                }\n",
       "            }, 500);\n",
       "            "
      ],
      "text/plain": [
       "<IPython.core.display.Javascript object>"
      ]
     },
     "metadata": {},
     "output_type": "display_data"
    }
   ],
   "source": [
    "print(X_train.shape)"
   ]
  },
  {
   "cell_type": "markdown",
   "id": "criminal-conducting",
   "metadata": {},
   "source": [
    "At this moment we have 11 features in this data set. Let's do feature selection to only select most important features."
   ]
  },
  {
   "cell_type": "code",
   "execution_count": 25,
   "id": "accomplished-testing",
   "metadata": {},
   "outputs": [
    {
     "data": {
      "application/javascript": [
       "\n",
       "            setTimeout(function() {\n",
       "                var nbb_cell_id = 25;\n",
       "                var nbb_unformatted_code = \"# calculate the f_values and p_values for all the features\\nfrom sklearn.feature_selection import f_regression\\n\\nf_values, p_values = f_regression(X_train, y_train)\";\n",
       "                var nbb_formatted_code = \"# calculate the f_values and p_values for all the features\\nfrom sklearn.feature_selection import f_regression\\n\\nf_values, p_values = f_regression(X_train, y_train)\";\n",
       "                var nbb_cells = Jupyter.notebook.get_cells();\n",
       "                for (var i = 0; i < nbb_cells.length; ++i) {\n",
       "                    if (nbb_cells[i].input_prompt_number == nbb_cell_id) {\n",
       "                        if (nbb_cells[i].get_text() == nbb_unformatted_code) {\n",
       "                             nbb_cells[i].set_text(nbb_formatted_code);\n",
       "                        }\n",
       "                        break;\n",
       "                    }\n",
       "                }\n",
       "            }, 500);\n",
       "            "
      ],
      "text/plain": [
       "<IPython.core.display.Javascript object>"
      ]
     },
     "metadata": {},
     "output_type": "display_data"
    }
   ],
   "source": [
    "# calculate the f_values and p_values for all the features\n",
    "from sklearn.feature_selection import f_regression\n",
    "\n",
    "f_values, p_values = f_regression(X_train, y_train)"
   ]
  },
  {
   "cell_type": "code",
   "execution_count": 26,
   "id": "adaptive-legend",
   "metadata": {},
   "outputs": [
    {
     "data": {
      "image/png": "[encoded data removed]",
      "text/plain": [
       "<Figure size 432x288 with 2 Axes>"
      ]
     },
     "metadata": {
      "needs_background": "light"
     },
     "output_type": "display_data"
    },
    {
     "data": {
      "application/javascript": [
       "\n",
       "            setTimeout(function() {\n",
       "                var nbb_cell_id = 26;\n",
       "                var nbb_unformatted_code = \"import matplotlib.pyplot as plt\\n\\nfig, ax = plt.subplots(2, 1)\\nax[0].set_title(\\\"F values\\\")\\nax[0].plot(f_values, \\\"o\\\")\\nax[1].set_title(\\\"p values\\\")\\nax[1].plot(p_values, \\\"o\\\")\\n# ax[1].set_yscale(\\\"log\\\")\\n\\nax[1].set_xticks(range(X_train.shape[1]))\\nax[1].set_xticklabels(X_train.columns, rotation=50)\\nfig.tight_layout()\";\n",
       "                var nbb_formatted_code = \"import matplotlib.pyplot as plt\\n\\nfig, ax = plt.subplots(2, 1)\\nax[0].set_title(\\\"F values\\\")\\nax[0].plot(f_values, \\\"o\\\")\\nax[1].set_title(\\\"p values\\\")\\nax[1].plot(p_values, \\\"o\\\")\\n# ax[1].set_yscale(\\\"log\\\")\\n\\nax[1].set_xticks(range(X_train.shape[1]))\\nax[1].set_xticklabels(X_train.columns, rotation=50)\\nfig.tight_layout()\";\n",
       "                var nbb_cells = Jupyter.notebook.get_cells();\n",
       "                for (var i = 0; i < nbb_cells.length; ++i) {\n",
       "                    if (nbb_cells[i].input_prompt_number == nbb_cell_id) {\n",
       "                        if (nbb_cells[i].get_text() == nbb_unformatted_code) {\n",
       "                             nbb_cells[i].set_text(nbb_formatted_code);\n",
       "                        }\n",
       "                        break;\n",
       "                    }\n",
       "                }\n",
       "            }, 500);\n",
       "            "
      ],
      "text/plain": [
       "<IPython.core.display.Javascript object>"
      ]
     },
     "metadata": {},
     "output_type": "display_data"
    }
   ],
   "source": [
    "import matplotlib.pyplot as plt\n",
    "\n",
    "fig, ax = plt.subplots(2, 1)\n",
    "ax[0].set_title(\"F values\")\n",
    "ax[0].plot(f_values, \"o\")\n",
    "ax[1].set_title(\"p values\")\n",
    "ax[1].plot(p_values, \"o\")\n",
    "# ax[1].set_yscale(\"log\")\n",
    "\n",
    "ax[1].set_xticks(range(X_train.shape[1]))\n",
    "ax[1].set_xticklabels(X_train.columns, rotation=50)\n",
    "fig.tight_layout()"
   ]
  },
  {
   "cell_type": "code",
   "execution_count": 27,
   "id": "physical-semiconductor",
   "metadata": {},
   "outputs": [
    {
     "data": {
      "application/vnd.plotly.v1+json": {
       "config": {
        "plotlyServerURL": "https://plot.ly"
       },
       "data": [
        {
         "mode": "markers",
         "type": "scatter",
         "x": [
          0,
          1,
          2,
          3,
          4,
          5,
          6,
          7,
          8,
          9,
          10
         ],
         "y": [
          0.0008906730862155523,
          1.394125829821599e-40,
          2.9930493983088823e-11,
          0.8208863065854328,
          1.0744277503356036e-05,
          0.054987435673460226,
          1.0044869420039531e-11,
          1.9940398817244416e-10,
          0.3695476362694987,
          1.6546595444405254e-16,
          2.810706536374989e-69
         ]
        }
       ],
       "layout": {
        "template": {
         "data": {
          "bar": [
           {
            "error_x": {
             "color": "#2a3f5f"
            },
            "error_y": {
             "color": "#2a3f5f"
            },
            "marker": {
             "line": {
              "color": "#E5ECF6",
              "width": 0.5
             }
            },
            "type": "bar"
           }
          ],
          "barpolar": [
           {
            "marker": {
             "line": {
              "color": "#E5ECF6",
              "width": 0.5
             }
            },
            "type": "barpolar"
           }
          ],
          "carpet": [
           {
            "aaxis": {
             "endlinecolor": "#2a3f5f",
             "gridcolor": "white",
             "linecolor": "white",
             "minorgridcolor": "white",
             "startlinecolor": "#2a3f5f"
            },
            "baxis": {
             "endlinecolor": "#2a3f5f",
             "gridcolor": "white",
             "linecolor": "white",
             "minorgridcolor": "white",
             "startlinecolor": "#2a3f5f"
            },
            "type": "carpet"
           }
          ],
          "choropleth": [
           {
            "colorbar": {
             "outlinewidth": 0,
             "ticks": ""
            },
            "type": "choropleth"
           }
          ],
          "contour": [
           {
            "colorbar": {
             "outlinewidth": 0,
             "ticks": ""
            },
            "colorscale": [
             [
              0,
              "#0d0887"
             ],
             [
              0.1111111111111111,
              "#46039f"
             ],
             [
              0.2222222222222222,
              "#7201a8"
             ],
             [
              0.3333333333333333,
              "#9c179e"
             ],
             [
              0.4444444444444444,
              "#bd3786"
             ],
             [
              0.5555555555555556,
              "#d8576b"
             ],
             [
              0.6666666666666666,
              "#ed7953"
             ],
             [
              0.7777777777777778,
              "#fb9f3a"
             ],
             [
              0.8888888888888888,
              "#fdca26"
             ],
             [
              1,
              "#f0f921"
             ]
            ],
            "type": "contour"
           }
          ],
          "contourcarpet": [
           {
            "colorbar": {
             "outlinewidth": 0,
             "ticks": ""
            },
            "type": "contourcarpet"
           }
          ],
          "heatmap": [
           {
            "colorbar": {
             "outlinewidth": 0,
             "ticks": ""
            },
            "colorscale": [
             [
              0,
              "#0d0887"
             ],
             [
              0.1111111111111111,
              "#46039f"
             ],
             [
              0.2222222222222222,
              "#7201a8"
             ],
             [
              0.3333333333333333,
              "#9c179e"
             ],
             [
              0.4444444444444444,
              "#bd3786"
             ],
             [
              0.5555555555555556,
              "#d8576b"
             ],
             [
              0.6666666666666666,
              "#ed7953"
             ],
             [
              0.7777777777777778,
              "#fb9f3a"
             ],
             [
              0.8888888888888888,
              "#fdca26"
             ],
             [
              1,
              "#f0f921"
             ]
            ],
            "type": "heatmap"
           }
          ],
          "heatmapgl": [
           {
            "colorbar": {
             "outlinewidth": 0,
             "ticks": ""
            },
            "colorscale": [
             [
              0,
              "#0d0887"
             ],
             [
              0.1111111111111111,
              "#46039f"
             ],
             [
              0.2222222222222222,
              "#7201a8"
             ],
             [
              0.3333333333333333,
              "#9c179e"
             ],
             [
              0.4444444444444444,
              "#bd3786"
             ],
             [
              0.5555555555555556,
              "#d8576b"
             ],
             [
              0.6666666666666666,
              "#ed7953"
             ],
             [
              0.7777777777777778,
              "#fb9f3a"
             ],
             [
              0.8888888888888888,
              "#fdca26"
             ],
             [
              1,
              "#f0f921"
             ]
            ],
            "type": "heatmapgl"
           }
          ],
          "histogram": [
           {
            "marker": {
             "colorbar": {
              "outlinewidth": 0,
              "ticks": ""
             }
            },
            "type": "histogram"
           }
          ],
          "histogram2d": [
           {
            "colorbar": {
             "outlinewidth": 0,
             "ticks": ""
            },
            "colorscale": [
             [
              0,
              "#0d0887"
             ],
             [
              0.1111111111111111,
              "#46039f"
             ],
             [
              0.2222222222222222,
              "#7201a8"
             ],
             [
              0.3333333333333333,
              "#9c179e"
             ],
             [
              0.4444444444444444,
              "#bd3786"
             ],
             [
              0.5555555555555556,
              "#d8576b"
             ],
             [
              0.6666666666666666,
              "#ed7953"
             ],
             [
              0.7777777777777778,
              "#fb9f3a"
             ],
             [
              0.8888888888888888,
              "#fdca26"
             ],
             [
              1,
              "#f0f921"
             ]
            ],
            "type": "histogram2d"
           }
          ],
          "histogram2dcontour": [
           {
            "colorbar": {
             "outlinewidth": 0,
             "ticks": ""
            },
            "colorscale": [
             [
              0,
              "#0d0887"
             ],
             [
              0.1111111111111111,
              "#46039f"
             ],
             [
              0.2222222222222222,
              "#7201a8"
             ],
             [
              0.3333333333333333,
              "#9c179e"
             ],
             [
              0.4444444444444444,
              "#bd3786"
             ],
             [
              0.5555555555555556,
              "#d8576b"
             ],
             [
              0.6666666666666666,
              "#ed7953"
             ],
             [
              0.7777777777777778,
              "#fb9f3a"
             ],
             [
              0.8888888888888888,
              "#fdca26"
             ],
             [
              1,
              "#f0f921"
             ]
            ],
            "type": "histogram2dcontour"
           }
          ],
          "mesh3d": [
           {
            "colorbar": {
             "outlinewidth": 0,
             "ticks": ""
            },
            "type": "mesh3d"
           }
          ],
          "parcoords": [
           {
            "line": {
             "colorbar": {
              "outlinewidth": 0,
              "ticks": ""
             }
            },
            "type": "parcoords"
           }
          ],
          "pie": [
           {
            "automargin": true,
            "type": "pie"
           }
          ],
          "scatter": [
           {
            "marker": {
             "colorbar": {
              "outlinewidth": 0,
              "ticks": ""
             }
            },
            "type": "scatter"
           }
          ],
          "scatter3d": [
           {
            "line": {
             "colorbar": {
              "outlinewidth": 0,
              "ticks": ""
             }
            },
            "marker": {
             "colorbar": {
              "outlinewidth": 0,
              "ticks": ""
             }
            },
            "type": "scatter3d"
           }
          ],
          "scattercarpet": [
           {
            "marker": {
             "colorbar": {
              "outlinewidth": 0,
              "ticks": ""
             }
            },
            "type": "scattercarpet"
           }
          ],
          "scattergeo": [
           {
            "marker": {
             "colorbar": {
              "outlinewidth": 0,
              "ticks": ""
             }
            },
            "type": "scattergeo"
           }
          ],
          "scattergl": [
           {
            "marker": {
             "colorbar": {
              "outlinewidth": 0,
              "ticks": ""
             }
            },
            "type": "scattergl"
           }
          ],
          "scattermapbox": [
           {
            "marker": {
             "colorbar": {
              "outlinewidth": 0,
              "ticks": ""
             }
            },
            "type": "scattermapbox"
           }
          ],
          "scatterpolar": [
           {
            "marker": {
             "colorbar": {
              "outlinewidth": 0,
              "ticks": ""
             }
            },
            "type": "scatterpolar"
           }
          ],
          "scatterpolargl": [
           {
            "marker": {
             "colorbar": {
              "outlinewidth": 0,
              "ticks": ""
             }
            },
            "type": "scatterpolargl"
           }
          ],
          "scatterternary": [
           {
            "marker": {
             "colorbar": {
              "outlinewidth": 0,
              "ticks": ""
             }
            },
            "type": "scatterternary"
           }
          ],
          "surface": [
           {
            "colorbar": {
             "outlinewidth": 0,
             "ticks": ""
            },
            "colorscale": [
             [
              0,
              "#0d0887"
             ],
             [
              0.1111111111111111,
              "#46039f"
             ],
             [
              0.2222222222222222,
              "#7201a8"
             ],
             [
              0.3333333333333333,
              "#9c179e"
             ],
             [
              0.4444444444444444,
              "#bd3786"
             ],
             [
              0.5555555555555556,
              "#d8576b"
             ],
             [
              0.6666666666666666,
              "#ed7953"
             ],
             [
              0.7777777777777778,
              "#fb9f3a"
             ],
             [
              0.8888888888888888,
              "#fdca26"
             ],
             [
              1,
              "#f0f921"
             ]
            ],
            "type": "surface"
           }
          ],
          "table": [
           {
            "cells": {
             "fill": {
              "color": "#EBF0F8"
             },
             "line": {
              "color": "white"
             }
            },
            "header": {
             "fill": {
              "color": "#C8D4E3"
             },
             "line": {
              "color": "white"
             }
            },
            "type": "table"
           }
          ]
         },
         "layout": {
          "annotationdefaults": {
           "arrowcolor": "#2a3f5f",
           "arrowhead": 0,
           "arrowwidth": 1
          },
          "autotypenumbers": "strict",
          "coloraxis": {
           "colorbar": {
            "outlinewidth": 0,
            "ticks": ""
           }
          },
          "colorscale": {
           "diverging": [
            [
             0,
             "#8e0152"
            ],
            [
             0.1,
             "#c51b7d"
            ],
            [
             0.2,
             "#de77ae"
            ],
            [
             0.3,
             "#f1b6da"
            ],
            [
             0.4,
             "#fde0ef"
            ],
            [
             0.5,
             "#f7f7f7"
            ],
            [
             0.6,
             "#e6f5d0"
            ],
            [
             0.7,
             "#b8e186"
            ],
            [
             0.8,
             "#7fbc41"
            ],
            [
             0.9,
             "#4d9221"
            ],
            [
             1,
             "#276419"
            ]
           ],
           "sequential": [
            [
             0,
             "#0d0887"
            ],
            [
             0.1111111111111111,
             "#46039f"
            ],
            [
             0.2222222222222222,
             "#7201a8"
            ],
            [
             0.3333333333333333,
             "#9c179e"
            ],
            [
             0.4444444444444444,
             "#bd3786"
            ],
            [
             0.5555555555555556,
             "#d8576b"
            ],
            [
             0.6666666666666666,
             "#ed7953"
            ],
            [
             0.7777777777777778,
             "#fb9f3a"
            ],
            [
             0.8888888888888888,
             "#fdca26"
            ],
            [
             1,
             "#f0f921"
            ]
           ],
           "sequentialminus": [
            [
             0,
             "#0d0887"
            ],
            [
             0.1111111111111111,
             "#46039f"
            ],
            [
             0.2222222222222222,
             "#7201a8"
            ],
            [
             0.3333333333333333,
             "#9c179e"
            ],
            [
             0.4444444444444444,
             "#bd3786"
            ],
            [
             0.5555555555555556,
             "#d8576b"
            ],
            [
             0.6666666666666666,
             "#ed7953"
            ],
            [
             0.7777777777777778,
             "#fb9f3a"
            ],
            [
             0.8888888888888888,
             "#fdca26"
            ],
            [
             1,
             "#f0f921"
            ]
           ]
          },
          "colorway": [
           "#636efa",
           "#EF553B",
           "#00cc96",
           "#ab63fa",
           "#FFA15A",
           "#19d3f3",
           "#FF6692",
           "#B6E880",
           "#FF97FF",
           "#FECB52"
          ],
          "font": {
           "color": "#2a3f5f"
          },
          "geo": {
           "bgcolor": "white",
           "lakecolor": "white",
           "landcolor": "#E5ECF6",
           "showlakes": true,
           "showland": true,
           "subunitcolor": "white"
          },
          "hoverlabel": {
           "align": "left"
          },
          "hovermode": "closest",
          "mapbox": {
           "style": "light"
          },
          "paper_bgcolor": "white",
          "plot_bgcolor": "#E5ECF6",
          "polar": {
           "angularaxis": {
            "gridcolor": "white",
            "linecolor": "white",
            "ticks": ""
           },
           "bgcolor": "#E5ECF6",
           "radialaxis": {
            "gridcolor": "white",
            "linecolor": "white",
            "ticks": ""
           }
          },
          "scene": {
           "xaxis": {
            "backgroundcolor": "#E5ECF6",
            "gridcolor": "white",
            "gridwidth": 2,
            "linecolor": "white",
            "showbackground": true,
            "ticks": "",
            "zerolinecolor": "white"
           },
           "yaxis": {
            "backgroundcolor": "#E5ECF6",
            "gridcolor": "white",
            "gridwidth": 2,
            "linecolor": "white",
            "showbackground": true,
            "ticks": "",
            "zerolinecolor": "white"
           },
           "zaxis": {
            "backgroundcolor": "#E5ECF6",
            "gridcolor": "white",
            "gridwidth": 2,
            "linecolor": "white",
            "showbackground": true,
            "ticks": "",
            "zerolinecolor": "white"
           }
          },
          "shapedefaults": {
           "line": {
            "color": "#2a3f5f"
           }
          },
          "ternary": {
           "aaxis": {
            "gridcolor": "white",
            "linecolor": "white",
            "ticks": ""
           },
           "baxis": {
            "gridcolor": "white",
            "linecolor": "white",
            "ticks": ""
           },
           "bgcolor": "#E5ECF6",
           "caxis": {
            "gridcolor": "white",
            "linecolor": "white",
            "ticks": ""
           }
          },
          "title": {
           "x": 0.05
          },
          "xaxis": {
           "automargin": true,
           "gridcolor": "white",
           "linecolor": "white",
           "ticks": "",
           "title": {
            "standoff": 15
           },
           "zerolinecolor": "white",
           "zerolinewidth": 2
          },
          "yaxis": {
           "automargin": true,
           "gridcolor": "white",
           "linecolor": "white",
           "ticks": "",
           "title": {
            "standoff": 15
           },
           "zerolinecolor": "white",
           "zerolinewidth": 2
          }
         }
        },
        "title": {
         "text": "Feature Selection"
        },
        "xaxis": {
         "tickmode": "array",
         "ticktext": [
          "fixed acidity",
          "volatile acidity",
          "citric acid",
          "residual sugar",
          "chlorides",
          "free sulfur dioxide",
          "total sulfur dioxide",
          "density",
          "pH",
          "sulphates",
          "alcohol"
         ],
         "tickvals": [
          0,
          1,
          2,
          3,
          4,
          5,
          6,
          7,
          8,
          9,
          10
         ],
         "title": {
          "text": "Features"
         }
        },
        "yaxis": {
         "title": {
          "text": "P-Value"
         }
        }
       }
      }
     },
     "metadata": {},
     "output_type": "display_data"
    },
    {
     "data": {
      "application/javascript": [
       "\n",
       "            setTimeout(function() {\n",
       "                var nbb_cell_id = 27;\n",
       "                var nbb_unformatted_code = \"import plotly.graph_objects as go\\n\\nfig = go.Figure()\\nfig.add_trace(go.Scatter(x=list(range(X_train.shape[1])), y=p_values, mode=\\\"markers\\\"))\\nfig.update_layout(\\n    title=\\\"Feature Selection\\\",\\n    yaxis_title=\\\"P-Value\\\",\\n    xaxis=dict(\\n        title=\\\"Features\\\",\\n        tickmode=\\\"array\\\",\\n        tickvals=list(range(X_train.shape[1])),\\n        ticktext=[col for col in X_train.columns],\\n    ),\\n)\\n\\nfig.show()\";\n",
       "                var nbb_formatted_code = \"import plotly.graph_objects as go\\n\\nfig = go.Figure()\\nfig.add_trace(go.Scatter(x=list(range(X_train.shape[1])), y=p_values, mode=\\\"markers\\\"))\\nfig.update_layout(\\n    title=\\\"Feature Selection\\\",\\n    yaxis_title=\\\"P-Value\\\",\\n    xaxis=dict(\\n        title=\\\"Features\\\",\\n        tickmode=\\\"array\\\",\\n        tickvals=list(range(X_train.shape[1])),\\n        ticktext=[col for col in X_train.columns],\\n    ),\\n)\\n\\nfig.show()\";\n",
       "                var nbb_cells = Jupyter.notebook.get_cells();\n",
       "                for (var i = 0; i < nbb_cells.length; ++i) {\n",
       "                    if (nbb_cells[i].input_prompt_number == nbb_cell_id) {\n",
       "                        if (nbb_cells[i].get_text() == nbb_unformatted_code) {\n",
       "                             nbb_cells[i].set_text(nbb_formatted_code);\n",
       "                        }\n",
       "                        break;\n",
       "                    }\n",
       "                }\n",
       "            }, 500);\n",
       "            "
      ],
      "text/plain": [
       "<IPython.core.display.Javascript object>"
      ]
     },
     "metadata": {},
     "output_type": "display_data"
    }
   ],
   "source": [
    "import plotly.graph_objects as go\n",
    "\n",
    "fig = go.Figure()\n",
    "fig.add_trace(go.Scatter(x=list(range(X_train.shape[1])), y=p_values, mode=\"markers\"))\n",
    "fig.update_layout(\n",
    "    title=\"Feature Selection\",\n",
    "    yaxis_title=\"P-Value\",\n",
    "    xaxis=dict(\n",
    "        title=\"Features\",\n",
    "        tickmode=\"array\",\n",
    "        tickvals=list(range(X_train.shape[1])),\n",
    "        ticktext=[col for col in X_train.columns],\n",
    "    ),\n",
    ")\n",
    "\n",
    "fig.show()"
   ]
  },
  {
   "cell_type": "markdown",
   "id": "confident-first",
   "metadata": {},
   "source": [
    "If we look at the result based on p-values we can see that out of 11 features 10 are highly important. They all have p-value less than 0.5 except the residual sugar feature whose p-value > 0.5. So, let only select 10 features for the \n",
    "model."
   ]
  },
  {
   "cell_type": "code",
   "execution_count": 28,
   "id": "sophisticated-trunk",
   "metadata": {},
   "outputs": [
    {
     "name": "stdout",
     "output_type": "stream",
     "text": [
      "RandomForestRegressor(max_depth=15, max_features='log2', n_estimators=1000,\n",
      "                      random_state=42)\n"
     ]
    },
    {
     "data": {
      "application/javascript": [
       "\n",
       "            setTimeout(function() {\n",
       "                var nbb_cell_id = 28;\n",
       "                var nbb_unformatted_code = \"# way to access the random forest model\\nprint(grid.best_estimator_.named_steps.regressor)\";\n",
       "                var nbb_formatted_code = \"# way to access the random forest model\\nprint(grid.best_estimator_.named_steps.regressor)\";\n",
       "                var nbb_cells = Jupyter.notebook.get_cells();\n",
       "                for (var i = 0; i < nbb_cells.length; ++i) {\n",
       "                    if (nbb_cells[i].input_prompt_number == nbb_cell_id) {\n",
       "                        if (nbb_cells[i].get_text() == nbb_unformatted_code) {\n",
       "                             nbb_cells[i].set_text(nbb_formatted_code);\n",
       "                        }\n",
       "                        break;\n",
       "                    }\n",
       "                }\n",
       "            }, 500);\n",
       "            "
      ],
      "text/plain": [
       "<IPython.core.display.Javascript object>"
      ]
     },
     "metadata": {},
     "output_type": "display_data"
    }
   ],
   "source": [
    "# way to access the random forest model\n",
    "print(grid.best_estimator_.named_steps.regressor)"
   ]
  },
  {
   "cell_type": "code",
   "execution_count": 29,
   "id": "following-murray",
   "metadata": {},
   "outputs": [
    {
     "name": "stdout",
     "output_type": "stream",
     "text": [
      "0.6009272993149999\n"
     ]
    },
    {
     "data": {
      "application/javascript": [
       "\n",
       "            setTimeout(function() {\n",
       "                var nbb_cell_id = 29;\n",
       "                var nbb_unformatted_code = \"from sklearn.feature_selection import SelectKBest\\nfrom sklearn.model_selection import cross_val_score\\n\\n# pipeline for feature selection\\npipe_sel = make_pipeline(\\n    SimpleImputer(strategy=\\\"mean\\\"),\\n    StandardScaler(),\\n    SelectKBest(k=10, score_func=f_regression),\\n    grid.best_estimator_.named_steps.regressor,\\n)\\n\\nscores = cross_val_score(\\n    pipe_sel, X_train, y_train, cv=5, scoring=\\\"neg_mean_squared_error\\\"\\n)\\n# mean rmse\\nprint(np.mean(np.sqrt(-scores)))\";\n",
       "                var nbb_formatted_code = \"from sklearn.feature_selection import SelectKBest\\nfrom sklearn.model_selection import cross_val_score\\n\\n# pipeline for feature selection\\npipe_sel = make_pipeline(\\n    SimpleImputer(strategy=\\\"mean\\\"),\\n    StandardScaler(),\\n    SelectKBest(k=10, score_func=f_regression),\\n    grid.best_estimator_.named_steps.regressor,\\n)\\n\\nscores = cross_val_score(\\n    pipe_sel, X_train, y_train, cv=5, scoring=\\\"neg_mean_squared_error\\\"\\n)\\n# mean rmse\\nprint(np.mean(np.sqrt(-scores)))\";\n",
       "                var nbb_cells = Jupyter.notebook.get_cells();\n",
       "                for (var i = 0; i < nbb_cells.length; ++i) {\n",
       "                    if (nbb_cells[i].input_prompt_number == nbb_cell_id) {\n",
       "                        if (nbb_cells[i].get_text() == nbb_unformatted_code) {\n",
       "                             nbb_cells[i].set_text(nbb_formatted_code);\n",
       "                        }\n",
       "                        break;\n",
       "                    }\n",
       "                }\n",
       "            }, 500);\n",
       "            "
      ],
      "text/plain": [
       "<IPython.core.display.Javascript object>"
      ]
     },
     "metadata": {},
     "output_type": "display_data"
    }
   ],
   "source": [
    "from sklearn.feature_selection import SelectKBest\n",
    "from sklearn.model_selection import cross_val_score\n",
    "\n",
    "# pipeline for feature selection\n",
    "pipe_sel = make_pipeline(\n",
    "    SimpleImputer(strategy=\"mean\"),\n",
    "    StandardScaler(),\n",
    "    SelectKBest(k=10, score_func=f_regression),\n",
    "    grid.best_estimator_.named_steps.regressor,\n",
    ")\n",
    "\n",
    "scores = cross_val_score(\n",
    "    pipe_sel, X_train, y_train, cv=5, scoring=\"neg_mean_squared_error\"\n",
    ")\n",
    "# mean rmse\n",
    "print(np.mean(np.sqrt(-scores)))"
   ]
  },
  {
   "cell_type": "markdown",
   "id": "figured-personal",
   "metadata": {},
   "source": [
    "## ColumnTransformer with Pipelines"
   ]
  },
  {
   "cell_type": "markdown",
   "id": "governing-password",
   "metadata": {},
   "source": [
    "So far, we only worked with numerical data to keep things simple but this is not going to be the case always. You also\n",
    "going to some categorical data like sex(Male,Female), color(Red, Blue, Green) etc and as these columns are categorical\n",
    "we can't apply the same transformation that we applied with numerical columns like calcualting the mean or median of \n",
    "male and female. We need to do one-hot encoding for this feature. \n",
    "\n",
    "One of the easiest way we can to apply different transformation to numerical and categorical columns in scikit-learn is by using the columnTransformer.  \n",
    "\n",
    "We will read a new data set which has mixed data type(numerical and categorical) and see how to apply everything that we have learned so far using a pipeline. "
   ]
  },
  {
   "cell_type": "code",
   "execution_count": 30,
   "id": "efficient-correlation",
   "metadata": {},
   "outputs": [
    {
     "data": {
      "text/html": [
       "<div>\n",
       "<style scoped>\n",
       "    .dataframe tbody tr th:only-of-type {\n",
       "        vertical-align: middle;\n",
       "    }\n",
       "\n",
       "    .dataframe tbody tr th {\n",
       "        vertical-align: top;\n",
       "    }\n",
       "\n",
       "    .dataframe thead th {\n",
       "        text-align: right;\n",
       "    }\n",
       "</style>\n",
       "<table border=\"1\" class=\"dataframe\">\n",
       "  <thead>\n",
       "    <tr style=\"text-align: right;\">\n",
       "      <th></th>\n",
       "      <th>Overall rank</th>\n",
       "      <th>Country or region</th>\n",
       "      <th>Score</th>\n",
       "      <th>GDP per capita</th>\n",
       "      <th>Social support</th>\n",
       "      <th>Healthy life expectancy</th>\n",
       "      <th>Freedom to make life choices</th>\n",
       "      <th>Generosity</th>\n",
       "      <th>Perceptions of corruption</th>\n",
       "    </tr>\n",
       "  </thead>\n",
       "  <tbody>\n",
       "    <tr>\n",
       "      <th>0</th>\n",
       "      <td>1</td>\n",
       "      <td>Finland</td>\n",
       "      <td>7.769</td>\n",
       "      <td>1.340</td>\n",
       "      <td>1.587</td>\n",
       "      <td>0.986</td>\n",
       "      <td>0.596</td>\n",
       "      <td>0.153</td>\n",
       "      <td>0.393</td>\n",
       "    </tr>\n",
       "    <tr>\n",
       "      <th>1</th>\n",
       "      <td>2</td>\n",
       "      <td>Denmark</td>\n",
       "      <td>7.600</td>\n",
       "      <td>1.383</td>\n",
       "      <td>1.573</td>\n",
       "      <td>0.996</td>\n",
       "      <td>0.592</td>\n",
       "      <td>0.252</td>\n",
       "      <td>0.410</td>\n",
       "    </tr>\n",
       "    <tr>\n",
       "      <th>2</th>\n",
       "      <td>3</td>\n",
       "      <td>Norway</td>\n",
       "      <td>7.554</td>\n",
       "      <td>1.488</td>\n",
       "      <td>1.582</td>\n",
       "      <td>1.028</td>\n",
       "      <td>0.603</td>\n",
       "      <td>0.271</td>\n",
       "      <td>0.341</td>\n",
       "    </tr>\n",
       "    <tr>\n",
       "      <th>3</th>\n",
       "      <td>4</td>\n",
       "      <td>Iceland</td>\n",
       "      <td>7.494</td>\n",
       "      <td>1.380</td>\n",
       "      <td>1.624</td>\n",
       "      <td>1.026</td>\n",
       "      <td>0.591</td>\n",
       "      <td>0.354</td>\n",
       "      <td>0.118</td>\n",
       "    </tr>\n",
       "    <tr>\n",
       "      <th>4</th>\n",
       "      <td>5</td>\n",
       "      <td>Netherlands</td>\n",
       "      <td>7.488</td>\n",
       "      <td>1.396</td>\n",
       "      <td>1.522</td>\n",
       "      <td>0.999</td>\n",
       "      <td>0.557</td>\n",
       "      <td>0.322</td>\n",
       "      <td>0.298</td>\n",
       "    </tr>\n",
       "  </tbody>\n",
       "</table>\n",
       "</div>"
      ],
      "text/plain": [
       "   Overall rank Country or region  Score  GDP per capita  Social support  \\\n",
       "0             1           Finland  7.769           1.340           1.587   \n",
       "1             2           Denmark  7.600           1.383           1.573   \n",
       "2             3            Norway  7.554           1.488           1.582   \n",
       "3             4           Iceland  7.494           1.380           1.624   \n",
       "4             5       Netherlands  7.488           1.396           1.522   \n",
       "\n",
       "   Healthy life expectancy  Freedom to make life choices  Generosity  \\\n",
       "0                    0.986                         0.596       0.153   \n",
       "1                    0.996                         0.592       0.252   \n",
       "2                    1.028                         0.603       0.271   \n",
       "3                    1.026                         0.591       0.354   \n",
       "4                    0.999                         0.557       0.322   \n",
       "\n",
       "   Perceptions of corruption  \n",
       "0                      0.393  \n",
       "1                      0.410  \n",
       "2                      0.341  \n",
       "3                      0.118  \n",
       "4                      0.298  "
      ]
     },
     "execution_count": 30,
     "metadata": {},
     "output_type": "execute_result"
    },
    {
     "data": {
      "application/javascript": [
       "\n",
       "            setTimeout(function() {\n",
       "                var nbb_cell_id = 30;\n",
       "                var nbb_unformatted_code = \"import pandas as pd\\nimport numpy as np\\n\\n# read the happiness data\\nurl = \\\"http://bit.ly/happiness-2019\\\"\\nhappiness = pd.read_csv(url)\\nhappiness.head()\";\n",
       "                var nbb_formatted_code = \"import pandas as pd\\nimport numpy as np\\n\\n# read the happiness data\\nurl = \\\"http://bit.ly/happiness-2019\\\"\\nhappiness = pd.read_csv(url)\\nhappiness.head()\";\n",
       "                var nbb_cells = Jupyter.notebook.get_cells();\n",
       "                for (var i = 0; i < nbb_cells.length; ++i) {\n",
       "                    if (nbb_cells[i].input_prompt_number == nbb_cell_id) {\n",
       "                        if (nbb_cells[i].get_text() == nbb_unformatted_code) {\n",
       "                             nbb_cells[i].set_text(nbb_formatted_code);\n",
       "                        }\n",
       "                        break;\n",
       "                    }\n",
       "                }\n",
       "            }, 500);\n",
       "            "
      ],
      "text/plain": [
       "<IPython.core.display.Javascript object>"
      ]
     },
     "metadata": {},
     "output_type": "display_data"
    }
   ],
   "source": [
    "import pandas as pd\n",
    "import numpy as np\n",
    "\n",
    "# read the happiness data\n",
    "url = \"http://bit.ly/happiness-2019\"\n",
    "happiness = pd.read_csv(url)\n",
    "happiness.head()"
   ]
  },
  {
   "cell_type": "code",
   "execution_count": 31,
   "id": "hazardous-beaver",
   "metadata": {},
   "outputs": [
    {
     "data": {
      "text/plain": [
       "Overall rank                      int64\n",
       "Country or region                object\n",
       "Score                           float64\n",
       "GDP per capita                  float64\n",
       "Social support                  float64\n",
       "Healthy life expectancy         float64\n",
       "Freedom to make life choices    float64\n",
       "Generosity                      float64\n",
       "Perceptions of corruption       float64\n",
       "dtype: object"
      ]
     },
     "execution_count": 31,
     "metadata": {},
     "output_type": "execute_result"
    },
    {
     "data": {
      "application/javascript": [
       "\n",
       "            setTimeout(function() {\n",
       "                var nbb_cell_id = 31;\n",
       "                var nbb_unformatted_code = \"happiness.dtypes\";\n",
       "                var nbb_formatted_code = \"happiness.dtypes\";\n",
       "                var nbb_cells = Jupyter.notebook.get_cells();\n",
       "                for (var i = 0; i < nbb_cells.length; ++i) {\n",
       "                    if (nbb_cells[i].input_prompt_number == nbb_cell_id) {\n",
       "                        if (nbb_cells[i].get_text() == nbb_unformatted_code) {\n",
       "                             nbb_cells[i].set_text(nbb_formatted_code);\n",
       "                        }\n",
       "                        break;\n",
       "                    }\n",
       "                }\n",
       "            }, 500);\n",
       "            "
      ],
      "text/plain": [
       "<IPython.core.display.Javascript object>"
      ]
     },
     "metadata": {},
     "output_type": "display_data"
    }
   ],
   "source": [
    "happiness.dtypes"
   ]
  },
  {
   "cell_type": "code",
   "execution_count": 32,
   "id": "related-diving",
   "metadata": {},
   "outputs": [
    {
     "data": {
      "text/plain": [
       "Overall rank                    0\n",
       "Country or region               0\n",
       "Score                           0\n",
       "GDP per capita                  0\n",
       "Social support                  0\n",
       "Healthy life expectancy         0\n",
       "Freedom to make life choices    0\n",
       "Generosity                      0\n",
       "Perceptions of corruption       0\n",
       "dtype: int64"
      ]
     },
     "execution_count": 32,
     "metadata": {},
     "output_type": "execute_result"
    },
    {
     "data": {
      "application/javascript": [
       "\n",
       "            setTimeout(function() {\n",
       "                var nbb_cell_id = 32;\n",
       "                var nbb_unformatted_code = \"happiness.isnull().sum()\";\n",
       "                var nbb_formatted_code = \"happiness.isnull().sum()\";\n",
       "                var nbb_cells = Jupyter.notebook.get_cells();\n",
       "                for (var i = 0; i < nbb_cells.length; ++i) {\n",
       "                    if (nbb_cells[i].input_prompt_number == nbb_cell_id) {\n",
       "                        if (nbb_cells[i].get_text() == nbb_unformatted_code) {\n",
       "                             nbb_cells[i].set_text(nbb_formatted_code);\n",
       "                        }\n",
       "                        break;\n",
       "                    }\n",
       "                }\n",
       "            }, 500);\n",
       "            "
      ],
      "text/plain": [
       "<IPython.core.display.Javascript object>"
      ]
     },
     "metadata": {},
     "output_type": "display_data"
    }
   ],
   "source": [
    "happiness.isnull().sum()"
   ]
  },
  {
   "cell_type": "markdown",
   "id": "planned-faculty",
   "metadata": {},
   "source": [
    "So, everything looks good. All the columns are numerical except the Country column as we expected. And there is also\n",
    "no null values but we will still use simple imputer to fill the missing values because we can't be sure that the \n",
    "future data will not have null values if we decided to deploy this model. "
   ]
  },
  {
   "cell_type": "code",
   "execution_count": 33,
   "id": "insured-timer",
   "metadata": {},
   "outputs": [
    {
     "data": {
      "application/javascript": [
       "\n",
       "            setTimeout(function() {\n",
       "                var nbb_cell_id = 33;\n",
       "                var nbb_unformatted_code = \"# create a training and a test set\\nX = happiness.drop([\\\"Overall rank\\\", \\\"Score\\\"], axis=1).copy()\\ny = happiness[\\\"Score\\\"].copy()\\nX_train, X_test, y_train, y_test = train_test_split(\\n    X, y, test_size=0.3, random_state=42\\n)\";\n",
       "                var nbb_formatted_code = \"# create a training and a test set\\nX = happiness.drop([\\\"Overall rank\\\", \\\"Score\\\"], axis=1).copy()\\ny = happiness[\\\"Score\\\"].copy()\\nX_train, X_test, y_train, y_test = train_test_split(\\n    X, y, test_size=0.3, random_state=42\\n)\";\n",
       "                var nbb_cells = Jupyter.notebook.get_cells();\n",
       "                for (var i = 0; i < nbb_cells.length; ++i) {\n",
       "                    if (nbb_cells[i].input_prompt_number == nbb_cell_id) {\n",
       "                        if (nbb_cells[i].get_text() == nbb_unformatted_code) {\n",
       "                             nbb_cells[i].set_text(nbb_formatted_code);\n",
       "                        }\n",
       "                        break;\n",
       "                    }\n",
       "                }\n",
       "            }, 500);\n",
       "            "
      ],
      "text/plain": [
       "<IPython.core.display.Javascript object>"
      ]
     },
     "metadata": {},
     "output_type": "display_data"
    }
   ],
   "source": [
    "# create a training and a test set\n",
    "X = happiness.drop([\"Overall rank\", \"Score\"], axis=1).copy()\n",
    "y = happiness[\"Score\"].copy()\n",
    "X_train, X_test, y_train, y_test = train_test_split(\n",
    "    X, y, test_size=0.3, random_state=42\n",
    ")"
   ]
  },
  {
   "cell_type": "markdown",
   "id": "sixth-coupon",
   "metadata": {},
   "source": [
    "Build separate pipielines for numerical and categorical data and combine them using columnTransformer that apply appropriate transfomation based on the column data type."
   ]
  },
  {
   "cell_type": "code",
   "execution_count": 34,
   "id": "overhead-calculation",
   "metadata": {},
   "outputs": [
    {
     "data": {
      "text/plain": [
       "ColumnTransformer(transformers=[('num',\n",
       "                                 Pipeline(steps=[('simpleimputer',\n",
       "                                                  SimpleImputer()),\n",
       "                                                 ('standardscaler',\n",
       "                                                  StandardScaler())]),\n",
       "                                 ['GDP per capita', 'Social support',\n",
       "                                  'Healthy life expectancy',\n",
       "                                  'Freedom to make life choices', 'Generosity',\n",
       "                                  'Perceptions of corruption']),\n",
       "                                ('cat',\n",
       "                                 Pipeline(steps=[('simpleimputer',\n",
       "                                                  SimpleImputer(fill_value='NA',\n",
       "                                                                strategy='constant')),\n",
       "                                                 ('onehotencoder',\n",
       "                                                  OneHotEncoder(handle_unknown='ignore',\n",
       "                                                                sparse=False))]),\n",
       "                                 ['Country or region'])])"
      ]
     },
     "execution_count": 34,
     "metadata": {},
     "output_type": "execute_result"
    },
    {
     "data": {
      "application/javascript": [
       "\n",
       "            setTimeout(function() {\n",
       "                var nbb_cell_id = 34;\n",
       "                var nbb_unformatted_code = \"from sklearn.pipeline import make_pipeline, Pipeline\\nfrom sklearn.impute import SimpleImputer\\nfrom sklearn.preprocessing import OneHotEncoder\\nfrom sklearn.compose import ColumnTransformer\\n\\n# first select the numerical and categorical columns\\ncat_cols = X_train.select_dtypes(include=[\\\"object\\\"]).columns.tolist()\\nnum_cols = X_train.select_dtypes(exclude=[\\\"object\\\"]).columns.tolist()\\n\\n# pipeline for categorical data\\ncat_preprocessing = make_pipeline(\\n    SimpleImputer(strategy=\\\"constant\\\", fill_value=\\\"NA\\\"),\\n    OneHotEncoder(handle_unknown=\\\"ignore\\\", sparse=False),\\n)\\n\\n# pipeline for numerical data\\nnum_preprocessing = make_pipeline(SimpleImputer(strategy=\\\"mean\\\"), StandardScaler())\\n\\n# combine both pipeline using a columnTransformer\\npreprocessing = ColumnTransformer(\\n    [(\\\"num\\\", num_preprocessing, num_cols), (\\\"cat\\\", cat_preprocessing, cat_cols)]\\n)\\n\\npreprocessing\";\n",
       "                var nbb_formatted_code = \"from sklearn.pipeline import make_pipeline, Pipeline\\nfrom sklearn.impute import SimpleImputer\\nfrom sklearn.preprocessing import OneHotEncoder\\nfrom sklearn.compose import ColumnTransformer\\n\\n# first select the numerical and categorical columns\\ncat_cols = X_train.select_dtypes(include=[\\\"object\\\"]).columns.tolist()\\nnum_cols = X_train.select_dtypes(exclude=[\\\"object\\\"]).columns.tolist()\\n\\n# pipeline for categorical data\\ncat_preprocessing = make_pipeline(\\n    SimpleImputer(strategy=\\\"constant\\\", fill_value=\\\"NA\\\"),\\n    OneHotEncoder(handle_unknown=\\\"ignore\\\", sparse=False),\\n)\\n\\n# pipeline for numerical data\\nnum_preprocessing = make_pipeline(SimpleImputer(strategy=\\\"mean\\\"), StandardScaler())\\n\\n# combine both pipeline using a columnTransformer\\npreprocessing = ColumnTransformer(\\n    [(\\\"num\\\", num_preprocessing, num_cols), (\\\"cat\\\", cat_preprocessing, cat_cols)]\\n)\\n\\npreprocessing\";\n",
       "                var nbb_cells = Jupyter.notebook.get_cells();\n",
       "                for (var i = 0; i < nbb_cells.length; ++i) {\n",
       "                    if (nbb_cells[i].input_prompt_number == nbb_cell_id) {\n",
       "                        if (nbb_cells[i].get_text() == nbb_unformatted_code) {\n",
       "                             nbb_cells[i].set_text(nbb_formatted_code);\n",
       "                        }\n",
       "                        break;\n",
       "                    }\n",
       "                }\n",
       "            }, 500);\n",
       "            "
      ],
      "text/plain": [
       "<IPython.core.display.Javascript object>"
      ]
     },
     "metadata": {},
     "output_type": "display_data"
    }
   ],
   "source": [
    "from sklearn.pipeline import make_pipeline, Pipeline\n",
    "from sklearn.impute import SimpleImputer\n",
    "from sklearn.preprocessing import OneHotEncoder\n",
    "from sklearn.compose import ColumnTransformer\n",
    "\n",
    "# first select the numerical and categorical columns\n",
    "cat_cols = X_train.select_dtypes(include=[\"object\"]).columns.tolist()\n",
    "num_cols = X_train.select_dtypes(exclude=[\"object\"]).columns.tolist()\n",
    "\n",
    "# pipeline for categorical data\n",
    "cat_preprocessing = make_pipeline(\n",
    "    SimpleImputer(strategy=\"constant\", fill_value=\"NA\"),\n",
    "    OneHotEncoder(handle_unknown=\"ignore\", sparse=False),\n",
    ")\n",
    "\n",
    "# pipeline for numerical data\n",
    "num_preprocessing = make_pipeline(SimpleImputer(strategy=\"mean\"), StandardScaler())\n",
    "\n",
    "# combine both pipeline using a columnTransformer\n",
    "preprocessing = ColumnTransformer(\n",
    "    [(\"num\", num_preprocessing, num_cols), (\"cat\", cat_preprocessing, cat_cols)]\n",
    ")\n",
    "\n",
    "preprocessing"
   ]
  },
  {
   "cell_type": "markdown",
   "id": "legitimate-bulletin",
   "metadata": {},
   "source": [
    "The ColumnTransformer requires a list of tuples where each tuple contains a name, a transformer and a list of names(or indices) of columns that the tarnsfomer should be applied to. "
   ]
  },
  {
   "cell_type": "code",
   "execution_count": 35,
   "id": "reported-slope",
   "metadata": {},
   "outputs": [
    {
     "name": "stdout",
     "output_type": "stream",
     "text": [
      "0.4799916219726474\n"
     ]
    },
    {
     "data": {
      "application/javascript": [
       "\n",
       "            setTimeout(function() {\n",
       "                var nbb_cell_id = 35;\n",
       "                var nbb_unformatted_code = \"from sklearn.ensemble import RandomForestRegressor\\nfrom sklearn.model_selection import cross_val_score\\n\\n# make a new pipeline that does everything\\nfull_pipe = Pipeline(\\n    [\\n        (\\\"preprocess\\\", preprocessing),\\n        (\\\"regressor\\\", RandomForestRegressor(random_state=42)),\\n    ]\\n)\\n\\n# measure model performance using cross-validation\\nscores = cross_val_score(\\n    full_pipe, X_train, y_train, cv=5, scoring=\\\"neg_mean_squared_error\\\"\\n)\\n# rmse\\nprint(np.mean(np.sqrt(-scores)))\";\n",
       "                var nbb_formatted_code = \"from sklearn.ensemble import RandomForestRegressor\\nfrom sklearn.model_selection import cross_val_score\\n\\n# make a new pipeline that does everything\\nfull_pipe = Pipeline(\\n    [\\n        (\\\"preprocess\\\", preprocessing),\\n        (\\\"regressor\\\", RandomForestRegressor(random_state=42)),\\n    ]\\n)\\n\\n# measure model performance using cross-validation\\nscores = cross_val_score(\\n    full_pipe, X_train, y_train, cv=5, scoring=\\\"neg_mean_squared_error\\\"\\n)\\n# rmse\\nprint(np.mean(np.sqrt(-scores)))\";\n",
       "                var nbb_cells = Jupyter.notebook.get_cells();\n",
       "                for (var i = 0; i < nbb_cells.length; ++i) {\n",
       "                    if (nbb_cells[i].input_prompt_number == nbb_cell_id) {\n",
       "                        if (nbb_cells[i].get_text() == nbb_unformatted_code) {\n",
       "                             nbb_cells[i].set_text(nbb_formatted_code);\n",
       "                        }\n",
       "                        break;\n",
       "                    }\n",
       "                }\n",
       "            }, 500);\n",
       "            "
      ],
      "text/plain": [
       "<IPython.core.display.Javascript object>"
      ]
     },
     "metadata": {},
     "output_type": "display_data"
    }
   ],
   "source": [
    "from sklearn.ensemble import RandomForestRegressor\n",
    "from sklearn.model_selection import cross_val_score\n",
    "\n",
    "# make a new pipeline that does everything\n",
    "full_pipe = Pipeline(\n",
    "    [\n",
    "        (\"preprocess\", preprocessing),\n",
    "        (\"regressor\", RandomForestRegressor(random_state=42)),\n",
    "    ]\n",
    ")\n",
    "\n",
    "# measure model performance using cross-validation\n",
    "scores = cross_val_score(\n",
    "    full_pipe, X_train, y_train, cv=5, scoring=\"neg_mean_squared_error\"\n",
    ")\n",
    "# rmse\n",
    "print(np.mean(np.sqrt(-scores)))"
   ]
  },
  {
   "cell_type": "markdown",
   "id": "reverse-simple",
   "metadata": {},
   "source": [
    "So, here is it. We created a pipeline that encapsulate every step of the process that needs to be done in order to \n",
    "create the ml model. Isn't this awesome. Nice and simple. \n",
    "\n",
    "we can also do grid search as before."
   ]
  },
  {
   "cell_type": "code",
   "execution_count": 36,
   "id": "foster-richmond",
   "metadata": {},
   "outputs": [
    {
     "data": {
      "text/plain": [
       "GridSearchCV(cv=5,\n",
       "             estimator=Pipeline(steps=[('preprocess',\n",
       "                                        ColumnTransformer(transformers=[('num',\n",
       "                                                                         Pipeline(steps=[('simpleimputer',\n",
       "                                                                                          SimpleImputer()),\n",
       "                                                                                         ('standardscaler',\n",
       "                                                                                          StandardScaler())]),\n",
       "                                                                         ['GDP '\n",
       "                                                                          'per '\n",
       "                                                                          'capita',\n",
       "                                                                          'Social '\n",
       "                                                                          'support',\n",
       "                                                                          'Healthy '\n",
       "                                                                          'life '\n",
       "                                                                          'expectancy',\n",
       "                                                                          'Freedom '\n",
       "                                                                          'to '\n",
       "                                                                          'make '\n",
       "                                                                          'life '\n",
       "                                                                          'choices',\n",
       "                                                                          'Generosity',\n",
       "                                                                          'Perceptions '\n",
       "                                                                          'of '\n",
       "                                                                          'corruption']),\n",
       "                                                                        ('cat',\n",
       "                                                                         Pipeline(ste...\n",
       "                                                                                                        strategy='constant')),\n",
       "                                                                                         ('onehotencoder',\n",
       "                                                                                          OneHotEncoder(handle_unknown='ignore',\n",
       "                                                                                                        sparse=False))]),\n",
       "                                                                         ['Country '\n",
       "                                                                          'or '\n",
       "                                                                          'region'])])),\n",
       "                                       ('regressor',\n",
       "                                        RandomForestRegressor(random_state=42))]),\n",
       "             param_grid={'preprocess__num__simpleimputer__strategy': ['mean',\n",
       "                                                                      'median',\n",
       "                                                                      'constant'],\n",
       "                         'regressor__max_depth': [1, 3, 5, 8],\n",
       "                         'regressor__n_estimators': [100, 300, 500]},\n",
       "             scoring='neg_mean_squared_error')"
      ]
     },
     "execution_count": 36,
     "metadata": {},
     "output_type": "execute_result"
    },
    {
     "data": {
      "application/javascript": [
       "\n",
       "            setTimeout(function() {\n",
       "                var nbb_cell_id = 36;\n",
       "                var nbb_unformatted_code = \"from sklearn.model_selection import GridSearchCV\\n\\nparam_grid = {\\n    \\\"preprocess__num__simpleimputer__strategy\\\": [\\\"mean\\\", \\\"median\\\", \\\"constant\\\"],\\n    \\\"regressor__n_estimators\\\": [100, 300, 500],\\n    \\\"regressor__max_depth\\\": [1, 3, 5, 8],\\n}\\n\\ngrid = GridSearchCV(\\n    full_pipe, param_grid=param_grid, scoring=\\\"neg_mean_squared_error\\\", cv=5\\n)\\ngrid.fit(X_train, y_train)\";\n",
       "                var nbb_formatted_code = \"from sklearn.model_selection import GridSearchCV\\n\\nparam_grid = {\\n    \\\"preprocess__num__simpleimputer__strategy\\\": [\\\"mean\\\", \\\"median\\\", \\\"constant\\\"],\\n    \\\"regressor__n_estimators\\\": [100, 300, 500],\\n    \\\"regressor__max_depth\\\": [1, 3, 5, 8],\\n}\\n\\ngrid = GridSearchCV(\\n    full_pipe, param_grid=param_grid, scoring=\\\"neg_mean_squared_error\\\", cv=5\\n)\\ngrid.fit(X_train, y_train)\";\n",
       "                var nbb_cells = Jupyter.notebook.get_cells();\n",
       "                for (var i = 0; i < nbb_cells.length; ++i) {\n",
       "                    if (nbb_cells[i].input_prompt_number == nbb_cell_id) {\n",
       "                        if (nbb_cells[i].get_text() == nbb_unformatted_code) {\n",
       "                             nbb_cells[i].set_text(nbb_formatted_code);\n",
       "                        }\n",
       "                        break;\n",
       "                    }\n",
       "                }\n",
       "            }, 500);\n",
       "            "
      ],
      "text/plain": [
       "<IPython.core.display.Javascript object>"
      ]
     },
     "metadata": {},
     "output_type": "display_data"
    }
   ],
   "source": [
    "from sklearn.model_selection import GridSearchCV\n",
    "\n",
    "param_grid = {\n",
    "    \"preprocess__num__simpleimputer__strategy\": [\"mean\", \"median\", \"constant\"],\n",
    "    \"regressor__n_estimators\": [100, 300, 500],\n",
    "    \"regressor__max_depth\": [1, 3, 5, 8],\n",
    "}\n",
    "\n",
    "grid = GridSearchCV(\n",
    "    full_pipe, param_grid=param_grid, scoring=\"neg_mean_squared_error\", cv=5\n",
    ")\n",
    "grid.fit(X_train, y_train)"
   ]
  },
  {
   "cell_type": "code",
   "execution_count": 37,
   "id": "nervous-netherlands",
   "metadata": {},
   "outputs": [
    {
     "name": "stdout",
     "output_type": "stream",
     "text": [
      "0.4810408003003286\n",
      "RandomForestRegressor(max_depth=8, n_estimators=300, random_state=42)\n"
     ]
    },
    {
     "data": {
      "application/javascript": [
       "\n",
       "            setTimeout(function() {\n",
       "                var nbb_cell_id = 37;\n",
       "                var nbb_unformatted_code = \"# rmse\\nprint(np.sqrt(-grid.best_score_))\\n\\n# To access the estimator\\nprint(grid.best_estimator_.named_steps.regressor)\";\n",
       "                var nbb_formatted_code = \"# rmse\\nprint(np.sqrt(-grid.best_score_))\\n\\n# To access the estimator\\nprint(grid.best_estimator_.named_steps.regressor)\";\n",
       "                var nbb_cells = Jupyter.notebook.get_cells();\n",
       "                for (var i = 0; i < nbb_cells.length; ++i) {\n",
       "                    if (nbb_cells[i].input_prompt_number == nbb_cell_id) {\n",
       "                        if (nbb_cells[i].get_text() == nbb_unformatted_code) {\n",
       "                             nbb_cells[i].set_text(nbb_formatted_code);\n",
       "                        }\n",
       "                        break;\n",
       "                    }\n",
       "                }\n",
       "            }, 500);\n",
       "            "
      ],
      "text/plain": [
       "<IPython.core.display.Javascript object>"
      ]
     },
     "metadata": {},
     "output_type": "display_data"
    }
   ],
   "source": [
    "# rmse\n",
    "print(np.sqrt(-grid.best_score_))\n",
    "\n",
    "# To access the estimator\n",
    "print(grid.best_estimator_.named_steps.regressor)"
   ]
  },
  {
   "cell_type": "code",
   "execution_count": 38,
   "id": "existing-knock",
   "metadata": {},
   "outputs": [
    {
     "data": {
      "application/javascript": [
       "\n",
       "            setTimeout(function() {\n",
       "                var nbb_cell_id = 38;\n",
       "                var nbb_unformatted_code = \"# To access the transformers\\n# print(grid.best_estimator_.named_steps.preprocess.transformers_[0])\\n# print(grid.best_estimator_.named_steps.preprocess.transformers_[1])\";\n",
       "                var nbb_formatted_code = \"# To access the transformers\\n# print(grid.best_estimator_.named_steps.preprocess.transformers_[0])\\n# print(grid.best_estimator_.named_steps.preprocess.transformers_[1])\";\n",
       "                var nbb_cells = Jupyter.notebook.get_cells();\n",
       "                for (var i = 0; i < nbb_cells.length; ++i) {\n",
       "                    if (nbb_cells[i].input_prompt_number == nbb_cell_id) {\n",
       "                        if (nbb_cells[i].get_text() == nbb_unformatted_code) {\n",
       "                             nbb_cells[i].set_text(nbb_formatted_code);\n",
       "                        }\n",
       "                        break;\n",
       "                    }\n",
       "                }\n",
       "            }, 500);\n",
       "            "
      ],
      "text/plain": [
       "<IPython.core.display.Javascript object>"
      ]
     },
     "metadata": {},
     "output_type": "display_data"
    }
   ],
   "source": [
    "# To access the transformers\n",
    "# print(grid.best_estimator_.named_steps.preprocess.transformers_[0])\n",
    "# print(grid.best_estimator_.named_steps.preprocess.transformers_[1])"
   ]
  },
  {
   "cell_type": "code",
   "execution_count": 39,
   "id": "subtle-investing",
   "metadata": {},
   "outputs": [
    {
     "name": "stdout",
     "output_type": "stream",
     "text": [
      "{'preprocess__num__simpleimputer__strategy': 'mean', 'regressor__max_depth': 8, 'regressor__n_estimators': 300}\n"
     ]
    },
    {
     "data": {
      "application/javascript": [
       "\n",
       "            setTimeout(function() {\n",
       "                var nbb_cell_id = 39;\n",
       "                var nbb_unformatted_code = \"# best hyperparameters\\nprint(grid.best_params_)\";\n",
       "                var nbb_formatted_code = \"# best hyperparameters\\nprint(grid.best_params_)\";\n",
       "                var nbb_cells = Jupyter.notebook.get_cells();\n",
       "                for (var i = 0; i < nbb_cells.length; ++i) {\n",
       "                    if (nbb_cells[i].input_prompt_number == nbb_cell_id) {\n",
       "                        if (nbb_cells[i].get_text() == nbb_unformatted_code) {\n",
       "                             nbb_cells[i].set_text(nbb_formatted_code);\n",
       "                        }\n",
       "                        break;\n",
       "                    }\n",
       "                }\n",
       "            }, 500);\n",
       "            "
      ],
      "text/plain": [
       "<IPython.core.display.Javascript object>"
      ]
     },
     "metadata": {},
     "output_type": "display_data"
    }
   ],
   "source": [
    "# best hyperparameters\n",
    "print(grid.best_params_)"
   ]
  },
  {
   "cell_type": "markdown",
   "id": "portable-sunglasses",
   "metadata": {},
   "source": [
    "And we are done. We created a model from scratch and did everything using a pipeline."
   ]
  },
  {
   "cell_type": "markdown",
   "id": "reserved-platform",
   "metadata": {},
   "source": [
    "## What to do next "
   ]
  },
  {
   "cell_type": "markdown",
   "id": "logical-shame",
   "metadata": {},
   "source": [
    "One of the best way to understand something is to do it yourself. Find a dataset that you like and create a single \n",
    "pipeline that does full data preparation, model selection and prediction. Apply everything that you learned in this post. \n",
    "\n",
    "I hope you find this post helpful. If you do, then please subscribe to our blog. And also share this post with others. Sharing is caring. And if you have any questions that feel free to ask in the comment section below. "
   ]
  },
  {
   "cell_type": "code",
   "execution_count": null,
   "id": "urban-celtic",
   "metadata": {},
   "outputs": [],
   "source": []
  }
 ],
 "metadata": {
  "kernelspec": {
   "display_name": "Python 3.7.6 64-bit ('base': conda)",
   "language": "python",
   "name": "python37664bitbaseconda0d95341f563b41a9b47c24dfd2761084"
  },
  "language_info": {
   "codemirror_mode": {
    "name": "ipython",
    "version": 3
   },
   "file_extension": ".py",
   "mimetype": "text/x-python",
   "name": "python",
   "nbconvert_exporter": "python",
   "pygments_lexer": "ipython3",
   "version": "3.8.2"
  }
 },
 "nbformat": 4,
 "nbformat_minor": 5
}
